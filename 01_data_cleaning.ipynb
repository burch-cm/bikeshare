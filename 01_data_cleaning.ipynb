{
 "cells": [
  {
   "cell_type": "code",
   "execution_count": 7,
   "metadata": {},
   "outputs": [],
   "source": [
    "import pandas as pd\n",
    "from zipfile import ZipFile\n",
    "import os"
   ]
  },
  {
   "cell_type": "code",
   "execution_count": 8,
   "metadata": {},
   "outputs": [],
   "source": [
    "zips = os.listdir(\"./rawdata\")"
   ]
  },
  {
   "cell_type": "code",
   "execution_count": 9,
   "metadata": {},
   "outputs": [],
   "source": [
    "for zipfile in zips:\n",
    "    zipfile = \"./rawdata/\" + zipfile\n",
    "    with ZipFile(zipfile, \"r\") as zipObj:\n",
    "        fns = zipObj.namelist()\n",
    "        for fn in fns:\n",
    "            if fn.endswith('.csv') or fn.endswith('tripdata'):\n",
    "                zipObj.extract(fn, 'temp')"
   ]
  },
  {
   "cell_type": "code",
   "execution_count": 10,
   "metadata": {},
   "outputs": [],
   "source": [
    "for fn in os.listdir(\"./temp\"):\n",
    "    if fn.endswith('tripdata'):\n",
    "        fn = \"./temp/\" + fn\n",
    "        os.rename(fn, fn + \".csv\")"
   ]
  },
  {
   "cell_type": "code",
   "execution_count": 14,
   "metadata": {},
   "outputs": [],
   "source": [
    "temp_dir = \"./temp\"\n",
    "os.path.join(temp_dir, os.listdir(temp_dir)[0])\n",
    "temp_files = []\n",
    "for fn in os.listdir(temp_dir):\n",
    "    temp_files.append(os.path.join(temp_dir, fn))"
   ]
  },
  {
   "cell_type": "code",
   "execution_count": 25,
   "metadata": {},
   "outputs": [],
   "source": [
    "df = pd.concat((pd.read_csv(f) for f in temp_files))"
   ]
  },
  {
   "cell_type": "code",
   "execution_count": 26,
   "metadata": {
    "scrolled": true
   },
   "outputs": [
    {
     "data": {
      "text/plain": [
       "Index(['Duration', 'Start date', 'End date', 'Start station number',\n",
       "       'Start station', 'End station number', 'End station', 'Bike number',\n",
       "       'Member type', 'ride_id', 'rideable_type', 'started_at', 'ended_at',\n",
       "       'start_station_name', 'start_station_id', 'end_station_name',\n",
       "       'end_station_id', 'start_lat', 'start_lng', 'end_lat', 'end_lng',\n",
       "       'member_casual', 'is_equity'],\n",
       "      dtype='object')"
      ]
     },
     "execution_count": 26,
     "metadata": {},
     "output_type": "execute_result"
    }
   ],
   "source": [
    "df.columns"
   ]
  },
  {
   "cell_type": "code",
   "execution_count": 29,
   "metadata": {},
   "outputs": [],
   "source": [
    "df_fixed = df.rename(columns = {\"Duration\": \"duration\",\n",
    "                              \"Start date\": \"start_date\",\n",
    "                              \"End data\": \"end_date\",\n",
    "                              \"Start station number\": \"start_station_num\",\n",
    "                              \"End station number\": \"end_station_num\",\n",
    "                              \"End station\": \"end_station\",\n",
    "                              \"Bike number\": \"bike_number\",\n",
    "                              \"Member type\": \"member_type\"})"
   ]
  },
  {
   "cell_type": "code",
   "execution_count": 30,
   "metadata": {},
   "outputs": [
    {
     "data": {
      "text/plain": [
       "Index(['duration', 'start_date', 'End date', 'start_station_num',\n",
       "       'Start station', 'end_station_num', 'end_station', 'bike_number',\n",
       "       'member_type', 'ride_id', 'rideable_type', 'started_at', 'ended_at',\n",
       "       'start_station_name', 'start_station_id', 'end_station_name',\n",
       "       'end_station_id', 'start_lat', 'start_lng', 'end_lat', 'end_lng',\n",
       "       'member_casual', 'is_equity'],\n",
       "      dtype='object')"
      ]
     },
     "execution_count": 30,
     "metadata": {},
     "output_type": "execute_result"
    }
   ],
   "source": [
    "df_fixed.columns"
   ]
  },
  {
   "cell_type": "code",
   "execution_count": 31,
   "metadata": {},
   "outputs": [],
   "source": [
    "df_fixed.to_csv(\"./data/tripdata.csv\", encoding = 'utf-8', index = False)"
   ]
  }
 ],
 "metadata": {
  "kernelspec": {
   "display_name": "Python 3",
   "language": "python",
   "name": "python3"
  },
  "language_info": {
   "codemirror_mode": {
    "name": "ipython",
    "version": 3
   },
   "file_extension": ".py",
   "mimetype": "text/x-python",
   "name": "python",
   "nbconvert_exporter": "python",
   "pygments_lexer": "ipython3",
   "version": "3.7.6"
  }
 },
 "nbformat": 4,
 "nbformat_minor": 4
}

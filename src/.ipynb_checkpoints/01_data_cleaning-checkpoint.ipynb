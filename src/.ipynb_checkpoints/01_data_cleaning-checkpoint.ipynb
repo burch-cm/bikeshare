{
 "cells": [
  {
   "cell_type": "markdown",
   "metadata": {},
   "source": [
    "Data inproc and cleaning script"
   ]
  },
  {
   "cell_type": "code",
   "execution_count": 53,
   "metadata": {},
   "outputs": [],
   "source": [
    "import numpy as np\n",
    "import pandas as pd\n",
    "from zipfile import ZipFile\n",
    "import os\n",
    "import shutil\n",
    "import pyarrow as pa\n",
    "import pyarrow.parquet as pq\n",
    "import datetime"
   ]
  },
  {
   "cell_type": "markdown",
   "metadata": {},
   "source": [
    "Source data from Capital Bikeshare data repos: https://s3.amazonaws.com/capitalbikeshare-data/index.html"
   ]
  },
  {
   "cell_type": "code",
   "execution_count": 2,
   "metadata": {},
   "outputs": [],
   "source": [
    "zips = os.listdir(\".././rawdata\")"
   ]
  },
  {
   "cell_type": "code",
   "execution_count": 3,
   "metadata": {},
   "outputs": [],
   "source": [
    "for zipfile in zips:\n",
    "    zipfile = \".././rawdata/\" + zipfile\n",
    "    with ZipFile(zipfile, \"r\") as zipObj:\n",
    "        fns = zipObj.namelist()\n",
    "        for fn in fns:\n",
    "            if fn.endswith('.csv') or fn.endswith('tripdata'):\n",
    "                zipObj.extract(fn, 'temp')"
   ]
  },
  {
   "cell_type": "code",
   "execution_count": 4,
   "metadata": {},
   "outputs": [],
   "source": [
    "for fn in os.listdir(\"./temp\"):\n",
    "    if fn.endswith('tripdata'):\n",
    "        fn = \"./temp/\" + fn\n",
    "        os.rename(fn, fn + \".csv\")"
   ]
  },
  {
   "cell_type": "code",
   "execution_count": 5,
   "metadata": {},
   "outputs": [],
   "source": [
    "try:\n",
    "    shutil.rmtree(\"./temp/__MACOSX\", ignore_errors=False, onerror=None)\n",
    "except OSError as e:\n",
    "    print (\"Error: %s - %s.\" % (e.filename, e.strerror))"
   ]
  },
  {
   "cell_type": "code",
   "execution_count": 6,
   "metadata": {},
   "outputs": [],
   "source": [
    "temp_dir = \"./temp\"\n",
    "os.path.join(temp_dir, os.listdir(temp_dir)[0])\n",
    "temp_files = []\n",
    "for fn in os.listdir(temp_dir):\n",
    "    temp_files.append(os.path.join(temp_dir, fn))"
   ]
  },
  {
   "cell_type": "code",
   "execution_count": 7,
   "metadata": {
    "scrolled": true
   },
   "outputs": [],
   "source": [
    "df = pd.concat((pd.read_csv(f) for f in temp_files))"
   ]
  },
  {
   "cell_type": "code",
   "execution_count": 8,
   "metadata": {},
   "outputs": [
    {
     "name": "stdout",
     "output_type": "stream",
     "text": [
      "<class 'pandas.core.frame.DataFrame'>\n",
      "Int64Index: 8396576 entries, 0 to 251542\n",
      "Data columns (total 23 columns):\n",
      " #   Column                Dtype  \n",
      "---  ------                -----  \n",
      " 0   Duration              float64\n",
      " 1   Start date            object \n",
      " 2   End date              object \n",
      " 3   Start station number  float64\n",
      " 4   Start station         object \n",
      " 5   End station number    float64\n",
      " 6   End station           object \n",
      " 7   Bike number           object \n",
      " 8   Member type           object \n",
      " 9   ride_id               object \n",
      " 10  rideable_type         object \n",
      " 11  started_at            object \n",
      " 12  ended_at              object \n",
      " 13  start_station_name    object \n",
      " 14  start_station_id      float64\n",
      " 15  end_station_name      object \n",
      " 16  end_station_id        float64\n",
      " 17  start_lat             float64\n",
      " 18  start_lng             float64\n",
      " 19  end_lat               float64\n",
      " 20  end_lng               float64\n",
      " 21  member_casual         object \n",
      " 22  is_equity             object \n",
      "dtypes: float64(9), object(14)\n",
      "memory usage: 1.5+ GB\n"
     ]
    }
   ],
   "source": [
    "df.info()"
   ]
  },
  {
   "cell_type": "markdown",
   "metadata": {},
   "source": [
    "Format changes at some point, and results in half the data with null values for each format. We can split-apply-combine this into the correct format for analysis."
   ]
  },
  {
   "cell_type": "code",
   "execution_count": 23,
   "metadata": {
    "scrolled": true
   },
   "outputs": [],
   "source": [
    "dfearly = df[['Start date', 'End date', 'Start station number', 'Start station', 'End station number', 'End station']]\n",
    "dfearly = dfearly.dropna(axis=0)"
   ]
  },
  {
   "cell_type": "code",
   "execution_count": 24,
   "metadata": {},
   "outputs": [
    {
     "data": {
      "text/plain": [
       "(7478501, 6)"
      ]
     },
     "execution_count": 24,
     "metadata": {},
     "output_type": "execute_result"
    }
   ],
   "source": [
    "dfearly.shape"
   ]
  },
  {
   "cell_type": "code",
   "execution_count": 25,
   "metadata": {},
   "outputs": [],
   "source": [
    "dflate = df[['started_at', 'ended_at', 'start_station_id', 'start_station_name', 'end_station_id', 'end_station_name']]\n",
    "dflate = dflate.dropna(axis=0)"
   ]
  },
  {
   "cell_type": "code",
   "execution_count": 26,
   "metadata": {},
   "outputs": [
    {
     "data": {
      "text/plain": [
       "(884941, 6)"
      ]
     },
     "execution_count": 26,
     "metadata": {},
     "output_type": "execute_result"
    }
   ],
   "source": [
    "dflate.shape"
   ]
  },
  {
   "cell_type": "code",
   "execution_count": 28,
   "metadata": {},
   "outputs": [
    {
     "data": {
      "text/plain": [
       "(8343849, 6)"
      ]
     },
     "execution_count": 28,
     "metadata": {},
     "output_type": "execute_result"
    }
   ],
   "source": [
    "dfearly.columns = dflate.columns\n",
    "df_fixed = dfearly.append(dflate).dropna(axis=0).drop_duplicates(keep='last')\n",
    "df_fixed.shape"
   ]
  },
  {
   "cell_type": "code",
   "execution_count": 29,
   "metadata": {
    "scrolled": false
   },
   "outputs": [
    {
     "data": {
      "text/html": [
       "<div>\n",
       "<style scoped>\n",
       "    .dataframe tbody tr th:only-of-type {\n",
       "        vertical-align: middle;\n",
       "    }\n",
       "\n",
       "    .dataframe tbody tr th {\n",
       "        vertical-align: top;\n",
       "    }\n",
       "\n",
       "    .dataframe thead th {\n",
       "        text-align: right;\n",
       "    }\n",
       "</style>\n",
       "<table border=\"1\" class=\"dataframe\">\n",
       "  <thead>\n",
       "    <tr style=\"text-align: right;\">\n",
       "      <th></th>\n",
       "      <th>started_at</th>\n",
       "      <th>ended_at</th>\n",
       "      <th>start_station_id</th>\n",
       "      <th>start_station_name</th>\n",
       "      <th>end_station_id</th>\n",
       "      <th>end_station_name</th>\n",
       "    </tr>\n",
       "  </thead>\n",
       "  <tbody>\n",
       "    <tr>\n",
       "      <th>0</th>\n",
       "      <td>2018-01-01 00:05:06</td>\n",
       "      <td>2018-01-01 00:14:18</td>\n",
       "      <td>31104.0</td>\n",
       "      <td>Adams Mill &amp; Columbia Rd NW</td>\n",
       "      <td>31400.0</td>\n",
       "      <td>Georgia &amp; New Hampshire Ave NW</td>\n",
       "    </tr>\n",
       "    <tr>\n",
       "      <th>1</th>\n",
       "      <td>2018-01-01 00:14:30</td>\n",
       "      <td>2018-01-01 00:35:53</td>\n",
       "      <td>31321.0</td>\n",
       "      <td>15th St &amp; Constitution Ave NW</td>\n",
       "      <td>31321.0</td>\n",
       "      <td>15th St &amp; Constitution Ave NW</td>\n",
       "    </tr>\n",
       "    <tr>\n",
       "      <th>2</th>\n",
       "      <td>2018-01-01 00:14:53</td>\n",
       "      <td>2018-01-01 00:35:58</td>\n",
       "      <td>31321.0</td>\n",
       "      <td>15th St &amp; Constitution Ave NW</td>\n",
       "      <td>31321.0</td>\n",
       "      <td>15th St &amp; Constitution Ave NW</td>\n",
       "    </tr>\n",
       "    <tr>\n",
       "      <th>3</th>\n",
       "      <td>2018-01-01 00:15:31</td>\n",
       "      <td>2018-01-01 00:25:09</td>\n",
       "      <td>31406.0</td>\n",
       "      <td>14th &amp; Upshur St NW</td>\n",
       "      <td>31103.0</td>\n",
       "      <td>16th &amp; Harvard St NW</td>\n",
       "    </tr>\n",
       "    <tr>\n",
       "      <th>4</th>\n",
       "      <td>2018-01-01 00:18:02</td>\n",
       "      <td>2018-01-01 00:24:15</td>\n",
       "      <td>31618.0</td>\n",
       "      <td>4th &amp; East Capitol St NE</td>\n",
       "      <td>31619.0</td>\n",
       "      <td>Lincoln Park / 13th &amp; East Capitol St NE</td>\n",
       "    </tr>\n",
       "  </tbody>\n",
       "</table>\n",
       "</div>"
      ],
      "text/plain": [
       "            started_at             ended_at  start_station_id  \\\n",
       "0  2018-01-01 00:05:06  2018-01-01 00:14:18           31104.0   \n",
       "1  2018-01-01 00:14:30  2018-01-01 00:35:53           31321.0   \n",
       "2  2018-01-01 00:14:53  2018-01-01 00:35:58           31321.0   \n",
       "3  2018-01-01 00:15:31  2018-01-01 00:25:09           31406.0   \n",
       "4  2018-01-01 00:18:02  2018-01-01 00:24:15           31618.0   \n",
       "\n",
       "              start_station_name  end_station_id  \\\n",
       "0    Adams Mill & Columbia Rd NW         31400.0   \n",
       "1  15th St & Constitution Ave NW         31321.0   \n",
       "2  15th St & Constitution Ave NW         31321.0   \n",
       "3            14th & Upshur St NW         31103.0   \n",
       "4       4th & East Capitol St NE         31619.0   \n",
       "\n",
       "                            end_station_name  \n",
       "0             Georgia & New Hampshire Ave NW  \n",
       "1              15th St & Constitution Ave NW  \n",
       "2              15th St & Constitution Ave NW  \n",
       "3                       16th & Harvard St NW  \n",
       "4  Lincoln Park / 13th & East Capitol St NE   "
      ]
     },
     "execution_count": 29,
     "metadata": {},
     "output_type": "execute_result"
    }
   ],
   "source": [
    "df_fixed.head()"
   ]
  },
  {
   "cell_type": "code",
   "execution_count": 35,
   "metadata": {},
   "outputs": [
    {
     "data": {
      "text/html": [
       "<div>\n",
       "<style scoped>\n",
       "    .dataframe tbody tr th:only-of-type {\n",
       "        vertical-align: middle;\n",
       "    }\n",
       "\n",
       "    .dataframe tbody tr th {\n",
       "        vertical-align: top;\n",
       "    }\n",
       "\n",
       "    .dataframe thead th {\n",
       "        text-align: right;\n",
       "    }\n",
       "</style>\n",
       "<table border=\"1\" class=\"dataframe\">\n",
       "  <thead>\n",
       "    <tr style=\"text-align: right;\">\n",
       "      <th></th>\n",
       "      <th>started_at</th>\n",
       "      <th>ended_at</th>\n",
       "      <th>start_station_id</th>\n",
       "      <th>start_station_name</th>\n",
       "      <th>end_station_id</th>\n",
       "      <th>end_station_name</th>\n",
       "    </tr>\n",
       "  </thead>\n",
       "  <tbody>\n",
       "    <tr>\n",
       "      <th>251537</th>\n",
       "      <td>2020-08-10 20:45:45</td>\n",
       "      <td>2020-08-10 20:51:40</td>\n",
       "      <td>199.0</td>\n",
       "      <td>10th &amp; K St NW</td>\n",
       "      <td>630.0</td>\n",
       "      <td>7th &amp; S St NW</td>\n",
       "    </tr>\n",
       "    <tr>\n",
       "      <th>251538</th>\n",
       "      <td>2020-08-26 22:16:20</td>\n",
       "      <td>2020-08-26 22:35:08</td>\n",
       "      <td>33.0</td>\n",
       "      <td>1st &amp; N St  SE</td>\n",
       "      <td>642.0</td>\n",
       "      <td>Edgewood Rec Center</td>\n",
       "    </tr>\n",
       "    <tr>\n",
       "      <th>251539</th>\n",
       "      <td>2020-08-07 18:43:03</td>\n",
       "      <td>2020-08-07 18:55:53</td>\n",
       "      <td>642.0</td>\n",
       "      <td>Edgewood Rec Center</td>\n",
       "      <td>137.0</td>\n",
       "      <td>3rd &amp; H St NE</td>\n",
       "    </tr>\n",
       "    <tr>\n",
       "      <th>251541</th>\n",
       "      <td>2020-08-28 07:22:41</td>\n",
       "      <td>2020-08-28 07:25:28</td>\n",
       "      <td>21.0</td>\n",
       "      <td>4th &amp; M St SW</td>\n",
       "      <td>548.0</td>\n",
       "      <td>Maine Ave &amp; 9th St SW</td>\n",
       "    </tr>\n",
       "    <tr>\n",
       "      <th>251542</th>\n",
       "      <td>2020-08-01 22:36:48</td>\n",
       "      <td>2020-08-01 22:44:02</td>\n",
       "      <td>140.0</td>\n",
       "      <td>Lincoln Park / 13th &amp; East Capitol St NE</td>\n",
       "      <td>591.0</td>\n",
       "      <td>Massachusetts Ave &amp; 6th St NE</td>\n",
       "    </tr>\n",
       "  </tbody>\n",
       "</table>\n",
       "</div>"
      ],
      "text/plain": [
       "                 started_at             ended_at  start_station_id  \\\n",
       "251537  2020-08-10 20:45:45  2020-08-10 20:51:40             199.0   \n",
       "251538  2020-08-26 22:16:20  2020-08-26 22:35:08              33.0   \n",
       "251539  2020-08-07 18:43:03  2020-08-07 18:55:53             642.0   \n",
       "251541  2020-08-28 07:22:41  2020-08-28 07:25:28              21.0   \n",
       "251542  2020-08-01 22:36:48  2020-08-01 22:44:02             140.0   \n",
       "\n",
       "                               start_station_name  end_station_id  \\\n",
       "251537                             10th & K St NW           630.0   \n",
       "251538                             1st & N St  SE           642.0   \n",
       "251539                        Edgewood Rec Center           137.0   \n",
       "251541                              4th & M St SW           548.0   \n",
       "251542  Lincoln Park / 13th & East Capitol St NE            591.0   \n",
       "\n",
       "                     end_station_name  \n",
       "251537                  7th & S St NW  \n",
       "251538            Edgewood Rec Center  \n",
       "251539                  3rd & H St NE  \n",
       "251541          Maine Ave & 9th St SW  \n",
       "251542  Massachusetts Ave & 6th St NE  "
      ]
     },
     "execution_count": 35,
     "metadata": {},
     "output_type": "execute_result"
    }
   ],
   "source": [
    "df_fixed.tail()"
   ]
  },
  {
   "cell_type": "markdown",
   "metadata": {},
   "source": [
    "Write this file to parquet format for easier sharing / processing."
   ]
  },
  {
   "cell_type": "code",
   "execution_count": 30,
   "metadata": {},
   "outputs": [],
   "source": [
    "tripdata_table = pa.Table.from_pandas(df_fixed)"
   ]
  },
  {
   "cell_type": "code",
   "execution_count": 31,
   "metadata": {},
   "outputs": [],
   "source": [
    "pq.write_table(tripdata_table, \".././data/tripdata.parquet\")"
   ]
  },
  {
   "cell_type": "markdown",
   "metadata": {},
   "source": [
    "Pull out only the duration data by day"
   ]
  },
  {
   "cell_type": "code",
   "execution_count": 41,
   "metadata": {},
   "outputs": [
    {
     "data": {
      "text/html": [
       "<div>\n",
       "<style scoped>\n",
       "    .dataframe tbody tr th:only-of-type {\n",
       "        vertical-align: middle;\n",
       "    }\n",
       "\n",
       "    .dataframe tbody tr th {\n",
       "        vertical-align: top;\n",
       "    }\n",
       "\n",
       "    .dataframe thead th {\n",
       "        text-align: right;\n",
       "    }\n",
       "</style>\n",
       "<table border=\"1\" class=\"dataframe\">\n",
       "  <thead>\n",
       "    <tr style=\"text-align: right;\">\n",
       "      <th></th>\n",
       "      <th>started_at</th>\n",
       "      <th>ended_at</th>\n",
       "    </tr>\n",
       "  </thead>\n",
       "  <tbody>\n",
       "    <tr>\n",
       "      <th>0</th>\n",
       "      <td>2018-01-01 00:05:06</td>\n",
       "      <td>2018-01-01 00:14:18</td>\n",
       "    </tr>\n",
       "    <tr>\n",
       "      <th>1</th>\n",
       "      <td>2018-01-01 00:14:30</td>\n",
       "      <td>2018-01-01 00:35:53</td>\n",
       "    </tr>\n",
       "    <tr>\n",
       "      <th>2</th>\n",
       "      <td>2018-01-01 00:14:53</td>\n",
       "      <td>2018-01-01 00:35:58</td>\n",
       "    </tr>\n",
       "    <tr>\n",
       "      <th>3</th>\n",
       "      <td>2018-01-01 00:15:31</td>\n",
       "      <td>2018-01-01 00:25:09</td>\n",
       "    </tr>\n",
       "    <tr>\n",
       "      <th>4</th>\n",
       "      <td>2018-01-01 00:18:02</td>\n",
       "      <td>2018-01-01 00:24:15</td>\n",
       "    </tr>\n",
       "  </tbody>\n",
       "</table>\n",
       "</div>"
      ],
      "text/plain": [
       "            started_at             ended_at\n",
       "0  2018-01-01 00:05:06  2018-01-01 00:14:18\n",
       "1  2018-01-01 00:14:30  2018-01-01 00:35:53\n",
       "2  2018-01-01 00:14:53  2018-01-01 00:35:58\n",
       "3  2018-01-01 00:15:31  2018-01-01 00:25:09\n",
       "4  2018-01-01 00:18:02  2018-01-01 00:24:15"
      ]
     },
     "execution_count": 41,
     "metadata": {},
     "output_type": "execute_result"
    }
   ],
   "source": [
    "duration = df_fixed[['started_at', 'ended_at']].copy()\n",
    "duration.head()"
   ]
  },
  {
   "cell_type": "code",
   "execution_count": 42,
   "metadata": {},
   "outputs": [
    {
     "data": {
      "text/html": [
       "<div>\n",
       "<style scoped>\n",
       "    .dataframe tbody tr th:only-of-type {\n",
       "        vertical-align: middle;\n",
       "    }\n",
       "\n",
       "    .dataframe tbody tr th {\n",
       "        vertical-align: top;\n",
       "    }\n",
       "\n",
       "    .dataframe thead th {\n",
       "        text-align: right;\n",
       "    }\n",
       "</style>\n",
       "<table border=\"1\" class=\"dataframe\">\n",
       "  <thead>\n",
       "    <tr style=\"text-align: right;\">\n",
       "      <th></th>\n",
       "      <th>started_at</th>\n",
       "      <th>ended_at</th>\n",
       "    </tr>\n",
       "  </thead>\n",
       "  <tbody>\n",
       "    <tr>\n",
       "      <th>251537</th>\n",
       "      <td>2020-08-10 20:45:45</td>\n",
       "      <td>2020-08-10 20:51:40</td>\n",
       "    </tr>\n",
       "    <tr>\n",
       "      <th>251538</th>\n",
       "      <td>2020-08-26 22:16:20</td>\n",
       "      <td>2020-08-26 22:35:08</td>\n",
       "    </tr>\n",
       "    <tr>\n",
       "      <th>251539</th>\n",
       "      <td>2020-08-07 18:43:03</td>\n",
       "      <td>2020-08-07 18:55:53</td>\n",
       "    </tr>\n",
       "    <tr>\n",
       "      <th>251541</th>\n",
       "      <td>2020-08-28 07:22:41</td>\n",
       "      <td>2020-08-28 07:25:28</td>\n",
       "    </tr>\n",
       "    <tr>\n",
       "      <th>251542</th>\n",
       "      <td>2020-08-01 22:36:48</td>\n",
       "      <td>2020-08-01 22:44:02</td>\n",
       "    </tr>\n",
       "  </tbody>\n",
       "</table>\n",
       "</div>"
      ],
      "text/plain": [
       "                 started_at             ended_at\n",
       "251537  2020-08-10 20:45:45  2020-08-10 20:51:40\n",
       "251538  2020-08-26 22:16:20  2020-08-26 22:35:08\n",
       "251539  2020-08-07 18:43:03  2020-08-07 18:55:53\n",
       "251541  2020-08-28 07:22:41  2020-08-28 07:25:28\n",
       "251542  2020-08-01 22:36:48  2020-08-01 22:44:02"
      ]
     },
     "execution_count": 42,
     "metadata": {},
     "output_type": "execute_result"
    }
   ],
   "source": [
    "duration.tail()"
   ]
  },
  {
   "cell_type": "code",
   "execution_count": null,
   "metadata": {},
   "outputs": [],
   "source": [
    "duration['trip_start'] = pd.to_datetime(duration['started_at'])\n",
    "duration['trip_end'] = pd.to_datetime(duration['ended_at'])"
   ]
  },
  {
   "cell_type": "code",
   "execution_count": 47,
   "metadata": {},
   "outputs": [],
   "source": [
    "duration['duration'] = (duration['trip_end'] - duration['trip_start'])"
   ]
  },
  {
   "cell_type": "code",
   "execution_count": 49,
   "metadata": {},
   "outputs": [
    {
     "data": {
      "text/html": [
       "<div>\n",
       "<style scoped>\n",
       "    .dataframe tbody tr th:only-of-type {\n",
       "        vertical-align: middle;\n",
       "    }\n",
       "\n",
       "    .dataframe tbody tr th {\n",
       "        vertical-align: top;\n",
       "    }\n",
       "\n",
       "    .dataframe thead th {\n",
       "        text-align: right;\n",
       "    }\n",
       "</style>\n",
       "<table border=\"1\" class=\"dataframe\">\n",
       "  <thead>\n",
       "    <tr style=\"text-align: right;\">\n",
       "      <th></th>\n",
       "      <th>trip_start</th>\n",
       "      <th>trip_end</th>\n",
       "      <th>duration</th>\n",
       "    </tr>\n",
       "  </thead>\n",
       "  <tbody>\n",
       "    <tr>\n",
       "      <th>0</th>\n",
       "      <td>2018-01-01 00:05:06</td>\n",
       "      <td>2018-01-01 00:14:18</td>\n",
       "      <td>00:09:12</td>\n",
       "    </tr>\n",
       "    <tr>\n",
       "      <th>1</th>\n",
       "      <td>2018-01-01 00:14:30</td>\n",
       "      <td>2018-01-01 00:35:53</td>\n",
       "      <td>00:21:23</td>\n",
       "    </tr>\n",
       "    <tr>\n",
       "      <th>2</th>\n",
       "      <td>2018-01-01 00:14:53</td>\n",
       "      <td>2018-01-01 00:35:58</td>\n",
       "      <td>00:21:05</td>\n",
       "    </tr>\n",
       "    <tr>\n",
       "      <th>3</th>\n",
       "      <td>2018-01-01 00:15:31</td>\n",
       "      <td>2018-01-01 00:25:09</td>\n",
       "      <td>00:09:38</td>\n",
       "    </tr>\n",
       "    <tr>\n",
       "      <th>4</th>\n",
       "      <td>2018-01-01 00:18:02</td>\n",
       "      <td>2018-01-01 00:24:15</td>\n",
       "      <td>00:06:13</td>\n",
       "    </tr>\n",
       "  </tbody>\n",
       "</table>\n",
       "</div>"
      ],
      "text/plain": [
       "           trip_start            trip_end duration\n",
       "0 2018-01-01 00:05:06 2018-01-01 00:14:18 00:09:12\n",
       "1 2018-01-01 00:14:30 2018-01-01 00:35:53 00:21:23\n",
       "2 2018-01-01 00:14:53 2018-01-01 00:35:58 00:21:05\n",
       "3 2018-01-01 00:15:31 2018-01-01 00:25:09 00:09:38\n",
       "4 2018-01-01 00:18:02 2018-01-01 00:24:15 00:06:13"
      ]
     },
     "execution_count": 49,
     "metadata": {},
     "output_type": "execute_result"
    }
   ],
   "source": [
    "duration.drop(columns=['started_at', 'ended_at'], inplace=True)\n",
    "duration.head()"
   ]
  },
  {
   "cell_type": "markdown",
   "metadata": {},
   "source": [
    "Save the duration data"
   ]
  },
  {
   "cell_type": "code",
   "execution_count": 58,
   "metadata": {},
   "outputs": [],
   "source": [
    "duration['duration_seconds'] = duration['duration'].dt.total_seconds()"
   ]
  },
  {
   "cell_type": "code",
   "execution_count": 62,
   "metadata": {},
   "outputs": [
    {
     "data": {
      "text/html": [
       "<div>\n",
       "<style scoped>\n",
       "    .dataframe tbody tr th:only-of-type {\n",
       "        vertical-align: middle;\n",
       "    }\n",
       "\n",
       "    .dataframe tbody tr th {\n",
       "        vertical-align: top;\n",
       "    }\n",
       "\n",
       "    .dataframe thead th {\n",
       "        text-align: right;\n",
       "    }\n",
       "</style>\n",
       "<table border=\"1\" class=\"dataframe\">\n",
       "  <thead>\n",
       "    <tr style=\"text-align: right;\">\n",
       "      <th></th>\n",
       "      <th>trip_start</th>\n",
       "      <th>trip_end</th>\n",
       "      <th>duration_seconds</th>\n",
       "    </tr>\n",
       "  </thead>\n",
       "  <tbody>\n",
       "    <tr>\n",
       "      <th>0</th>\n",
       "      <td>2018-01-01 00:05:06</td>\n",
       "      <td>2018-01-01 00:14:18</td>\n",
       "      <td>552.0</td>\n",
       "    </tr>\n",
       "    <tr>\n",
       "      <th>1</th>\n",
       "      <td>2018-01-01 00:14:30</td>\n",
       "      <td>2018-01-01 00:35:53</td>\n",
       "      <td>1283.0</td>\n",
       "    </tr>\n",
       "    <tr>\n",
       "      <th>2</th>\n",
       "      <td>2018-01-01 00:14:53</td>\n",
       "      <td>2018-01-01 00:35:58</td>\n",
       "      <td>1265.0</td>\n",
       "    </tr>\n",
       "    <tr>\n",
       "      <th>3</th>\n",
       "      <td>2018-01-01 00:15:31</td>\n",
       "      <td>2018-01-01 00:25:09</td>\n",
       "      <td>578.0</td>\n",
       "    </tr>\n",
       "    <tr>\n",
       "      <th>4</th>\n",
       "      <td>2018-01-01 00:18:02</td>\n",
       "      <td>2018-01-01 00:24:15</td>\n",
       "      <td>373.0</td>\n",
       "    </tr>\n",
       "  </tbody>\n",
       "</table>\n",
       "</div>"
      ],
      "text/plain": [
       "           trip_start            trip_end  duration_seconds\n",
       "0 2018-01-01 00:05:06 2018-01-01 00:14:18             552.0\n",
       "1 2018-01-01 00:14:30 2018-01-01 00:35:53            1283.0\n",
       "2 2018-01-01 00:14:53 2018-01-01 00:35:58            1265.0\n",
       "3 2018-01-01 00:15:31 2018-01-01 00:25:09             578.0\n",
       "4 2018-01-01 00:18:02 2018-01-01 00:24:15             373.0"
      ]
     },
     "execution_count": 62,
     "metadata": {},
     "output_type": "execute_result"
    }
   ],
   "source": [
    "duration.drop(columns = ['duration'], inplace=True)\n",
    "duration.head()"
   ]
  },
  {
   "cell_type": "code",
   "execution_count": 63,
   "metadata": {},
   "outputs": [],
   "source": [
    "duration_table = pa.Table.from_pandas(duration)"
   ]
  },
  {
   "cell_type": "code",
   "execution_count": 64,
   "metadata": {},
   "outputs": [],
   "source": [
    "pq.write_table(duration_table, \".././data/duration-data.parquet\")"
   ]
  },
  {
   "cell_type": "markdown",
   "metadata": {},
   "source": [
    "Clean up the temp files and directory"
   ]
  },
  {
   "cell_type": "code",
   "execution_count": 17,
   "metadata": {},
   "outputs": [],
   "source": [
    "try:\n",
    "    shutil.rmtree(\"./temp\", ignore_errors=False, onerror=None)\n",
    "except OSError as e:\n",
    "    print (\"Error: %s - %s.\" % (e.filename, e.strerror))"
   ]
  }
 ],
 "metadata": {
  "kernelspec": {
   "display_name": "Python 3",
   "language": "python",
   "name": "python3"
  },
  "language_info": {
   "codemirror_mode": {
    "name": "ipython",
    "version": 3
   },
   "file_extension": ".py",
   "mimetype": "text/x-python",
   "name": "python",
   "nbconvert_exporter": "python",
   "pygments_lexer": "ipython3",
   "version": "3.7.6"
  }
 },
 "nbformat": 4,
 "nbformat_minor": 4
}

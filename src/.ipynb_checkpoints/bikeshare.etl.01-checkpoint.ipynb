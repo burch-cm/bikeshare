{
 "cells": [
  {
   "cell_type": "code",
   "execution_count": 1,
   "metadata": {},
   "outputs": [
    {
     "ename": "ModuleNotFoundError",
     "evalue": "No module named 'pyspark'",
     "output_type": "error",
     "traceback": [
      "\u001b[1;31m---------------------------------------------------------------------------\u001b[0m",
      "\u001b[1;31mModuleNotFoundError\u001b[0m                       Traceback (most recent call last)",
      "\u001b[1;32m<ipython-input-1-5c8b1cdf8b35>\u001b[0m in \u001b[0;36m<module>\u001b[1;34m\u001b[0m\n\u001b[0;32m      1\u001b[0m \u001b[1;32mimport\u001b[0m \u001b[0mnumpy\u001b[0m \u001b[1;32mas\u001b[0m \u001b[0mnp\u001b[0m\u001b[1;33m\u001b[0m\u001b[1;33m\u001b[0m\u001b[0m\n\u001b[1;32m----> 2\u001b[1;33m \u001b[1;32mfrom\u001b[0m \u001b[0mpyspark\u001b[0m \u001b[1;32mimport\u001b[0m \u001b[0mSparkContext\u001b[0m\u001b[1;33m,\u001b[0m \u001b[0mSparkConf\u001b[0m\u001b[1;33m\u001b[0m\u001b[1;33m\u001b[0m\u001b[0m\n\u001b[0m\u001b[0;32m      3\u001b[0m \u001b[1;32mfrom\u001b[0m \u001b[0mpyspark\u001b[0m\u001b[1;33m.\u001b[0m\u001b[0msql\u001b[0m \u001b[1;32mimport\u001b[0m \u001b[0mSQLContext\u001b[0m\u001b[1;33m,\u001b[0m \u001b[0mSparkSession\u001b[0m\u001b[1;33m\u001b[0m\u001b[1;33m\u001b[0m\u001b[0m\n\u001b[0;32m      4\u001b[0m \u001b[1;32mfrom\u001b[0m \u001b[0mpyspark\u001b[0m\u001b[1;33m.\u001b[0m\u001b[0msql\u001b[0m\u001b[1;33m.\u001b[0m\u001b[0mtypes\u001b[0m \u001b[1;32mimport\u001b[0m \u001b[0mStructType\u001b[0m\u001b[1;33m,\u001b[0m \u001b[0mStructField\u001b[0m\u001b[1;33m,\u001b[0m \u001b[0mDoubleType\u001b[0m\u001b[1;33m,\u001b[0m \u001b[0mIntegerType\u001b[0m\u001b[1;33m,\u001b[0m \u001b[0mStringType\u001b[0m\u001b[1;33m\u001b[0m\u001b[1;33m\u001b[0m\u001b[0m\n\u001b[0;32m      5\u001b[0m \u001b[0msc\u001b[0m \u001b[1;33m=\u001b[0m \u001b[0mSparkContext\u001b[0m\u001b[1;33m.\u001b[0m\u001b[0mgetOrCreate\u001b[0m\u001b[1;33m(\u001b[0m\u001b[0mSparkConf\u001b[0m\u001b[1;33m(\u001b[0m\u001b[1;33m)\u001b[0m\u001b[1;33m.\u001b[0m\u001b[0msetMaster\u001b[0m\u001b[1;33m(\u001b[0m\u001b[1;34m\"local[*]\"\u001b[0m\u001b[1;33m)\u001b[0m\u001b[1;33m)\u001b[0m\u001b[1;33m\u001b[0m\u001b[1;33m\u001b[0m\u001b[0m\n",
      "\u001b[1;31mModuleNotFoundError\u001b[0m: No module named 'pyspark'"
     ]
    }
   ],
   "source": [
    "import numpy as np\n",
    "from pyspark import SparkContext, SparkConf\n",
    "from pyspark.sql import SQLContext, SparkSession\n",
    "from pyspark.sql.types import StructType, StructField, DoubleType, IntegerType, StringType\n",
    "sc = SparkContext.getOrCreate(SparkConf().setMaster(\"local[*]\"))\n",
    "from pyspark.mllib.stat import Statistics\n",
    "from pyspark.sql import SparkSession\n",
    "from pyspark.sql.functions import *"
   ]
  },
  {
   "cell_type": "code",
   "execution_count": 3,
   "metadata": {},
   "outputs": [],
   "source": [
    "# @hidden_cell\n",
    "# The project token is an authorization token that is used to access project resources like data sources, connections, and used by platform APIs.\n",
    "from project_lib import Project\n",
    "project = Project(project_id='8b4b59ab-7c44-4db8-b400-dbb6bbea31f0', project_access_token='p-018badf910a5cc3d5020f98e48c96bbf31c72f80')\n",
    "pc = project.project_context\n"
   ]
  },
  {
   "cell_type": "code",
   "execution_count": 4,
   "metadata": {},
   "outputs": [],
   "source": [
    "spark = SparkSession \\\n",
    "    .builder \\\n",
    "    .getOrCreate()"
   ]
  },
  {
   "cell_type": "code",
   "execution_count": 5,
   "metadata": {},
   "outputs": [
    {
     "name": "stdout",
     "output_type": "stream",
     "text": [
      "--2020-09-21 17:56:37--  https://github.com/burch-cm/bikeshare/blob/master/data/duration-data.parquet?raw=true\n",
      "Resolving github.com (github.com)... 140.82.113.3\n",
      "Connecting to github.com (github.com)|140.82.113.3|:443... connected.\n",
      "HTTP request sent, awaiting response... 302 Found\n",
      "Location: https://github.com/burch-cm/bikeshare/raw/master/data/duration-data.parquet [following]\n",
      "--2020-09-21 17:56:37--  https://github.com/burch-cm/bikeshare/raw/master/data/duration-data.parquet\n",
      "Reusing existing connection to github.com:443.\n",
      "HTTP request sent, awaiting response... 302 Found\n",
      "Location: https://media.githubusercontent.com/media/burch-cm/bikeshare/master/data/duration-data.parquet [following]\n",
      "--2020-09-21 17:56:37--  https://media.githubusercontent.com/media/burch-cm/bikeshare/master/data/duration-data.parquet\n",
      "Resolving media.githubusercontent.com (media.githubusercontent.com)... 151.101.48.133\n",
      "Connecting to media.githubusercontent.com (media.githubusercontent.com)|151.101.48.133|:443... connected.\n",
      "HTTP request sent, awaiting response... 200 OK\n",
      "Length: 148531478 (142M) [application/octet-stream]\n",
      "Saving to: ‘duration-data.parquet?raw=true’\n",
      "\n",
      "100%[======================================>] 148,531,478  189MB/s   in 0.7s   \n",
      "\n",
      "2020-09-21 17:56:43 (189 MB/s) - ‘duration-data.parquet?raw=true’ saved [148531478/148531478]\n",
      "\n"
     ]
    }
   ],
   "source": [
    "!wget https://github.com/burch-cm/bikeshare/blob/master/data/duration-data.parquet?raw=true\n",
    "!mv duration-data.parquet?raw=true duration.parquet"
   ]
  },
  {
   "cell_type": "code",
   "execution_count": 6,
   "metadata": {},
   "outputs": [
    {
     "name": "stdout",
     "output_type": "stream",
     "text": [
      "--2020-09-21 17:56:45--  https://github.com/burch-cm/bikeshare/blob/master/data/weather-data.parquet?raw=true\n",
      "Resolving github.com (github.com)... 140.82.112.3\n",
      "Connecting to github.com (github.com)|140.82.112.3|:443... connected.\n",
      "HTTP request sent, awaiting response... 302 Found\n",
      "Location: https://github.com/burch-cm/bikeshare/raw/master/data/weather-data.parquet [following]\n",
      "--2020-09-21 17:56:45--  https://github.com/burch-cm/bikeshare/raw/master/data/weather-data.parquet\n",
      "Reusing existing connection to github.com:443.\n",
      "HTTP request sent, awaiting response... 302 Found\n",
      "Location: https://media.githubusercontent.com/media/burch-cm/bikeshare/master/data/weather-data.parquet [following]\n",
      "--2020-09-21 17:56:45--  https://media.githubusercontent.com/media/burch-cm/bikeshare/master/data/weather-data.parquet\n",
      "Resolving media.githubusercontent.com (media.githubusercontent.com)... 151.101.48.133\n",
      "Connecting to media.githubusercontent.com (media.githubusercontent.com)|151.101.48.133|:443... connected.\n",
      "HTTP request sent, awaiting response... 200 OK\n",
      "Length: 17470 (17K) [application/octet-stream]\n",
      "Saving to: ‘weather-data.parquet?raw=true’\n",
      "\n",
      "100%[======================================>] 17,470      --.-K/s   in 0.001s  \n",
      "\n",
      "2020-09-21 17:56:45 (24.3 MB/s) - ‘weather-data.parquet?raw=true’ saved [17470/17470]\n",
      "\n"
     ]
    }
   ],
   "source": [
    "!wget https://github.com/burch-cm/bikeshare/blob/master/data/weather-data.parquet?raw=true\n",
    "!mv weather-data.parquet?raw=true weather.parquet"
   ]
  },
  {
   "cell_type": "code",
   "execution_count": 7,
   "metadata": {},
   "outputs": [],
   "source": [
    "weather = spark.read.parquet('weather.parquet')\n",
    "duration = spark.read.parquet('duration.parquet')"
   ]
  },
  {
   "cell_type": "code",
   "execution_count": 8,
   "metadata": {},
   "outputs": [
    {
     "data": {
      "text/plain": [
       "986"
      ]
     },
     "execution_count": 8,
     "metadata": {},
     "output_type": "execute_result"
    }
   ],
   "source": [
    "weather.count()"
   ]
  },
  {
   "cell_type": "code",
   "execution_count": 9,
   "metadata": {},
   "outputs": [
    {
     "data": {
      "text/plain": [
       "8343849"
      ]
     },
     "execution_count": 9,
     "metadata": {},
     "output_type": "execute_result"
    }
   ],
   "source": [
    "duration.count()"
   ]
  },
  {
   "cell_type": "code",
   "execution_count": 10,
   "metadata": {},
   "outputs": [
    {
     "name": "stdout",
     "output_type": "stream",
     "text": [
      "+----------+-----+----+----+----+----+----+----+\n",
      "| trip_date| AWND|PRCP|SNOW|SNWD|TAVG|TMAX|TMIN|\n",
      "+----------+-----+----+----+----+----+----+----+\n",
      "|2018-01-01|11.63| 0.0| 0.0| 0.0|19.0|  26|  13|\n",
      "|2018-01-02| 7.83| 0.0| 0.0| 0.0|18.0|  26|  13|\n",
      "|2018-01-03|  3.8| 0.0| 0.0| 0.0|23.0|  35|  13|\n",
      "|2018-01-04|19.91| 0.1| 0.8| 1.2|26.0|  27|  16|\n",
      "|2018-01-05|15.66| 0.0| 0.0| 1.2|17.0|  21|  13|\n",
      "+----------+-----+----+----+----+----+----+----+\n",
      "only showing top 5 rows\n",
      "\n"
     ]
    }
   ],
   "source": [
    "weather = weather.withColumnRenamed(\"DATE\", \"trip_date\")\n",
    "weather.show(5)"
   ]
  },
  {
   "cell_type": "code",
   "execution_count": 11,
   "metadata": {},
   "outputs": [
    {
     "name": "stdout",
     "output_type": "stream",
     "text": [
      "+-------------------+-------------------+----------------+-----------------+\n",
      "|         trip_start|           trip_end|duration_seconds|__index_level_0__|\n",
      "+-------------------+-------------------+----------------+-----------------+\n",
      "|2018-01-01 00:05:06|2018-01-01 00:14:18|           552.0|                0|\n",
      "|2018-01-01 00:14:30|2018-01-01 00:35:53|          1283.0|                1|\n",
      "|2018-01-01 00:14:53|2018-01-01 00:35:58|          1265.0|                2|\n",
      "|2018-01-01 00:15:31|2018-01-01 00:25:09|           578.0|                3|\n",
      "|2018-01-01 00:18:02|2018-01-01 00:24:15|           373.0|                4|\n",
      "+-------------------+-------------------+----------------+-----------------+\n",
      "only showing top 5 rows\n",
      "\n"
     ]
    }
   ],
   "source": [
    "duration.show(5)"
   ]
  },
  {
   "cell_type": "code",
   "execution_count": 12,
   "metadata": {},
   "outputs": [],
   "source": [
    "duration = duration.withColumn(\"trip_date\", (duration['trip_start'].cast(\"date\")))"
   ]
  },
  {
   "cell_type": "code",
   "execution_count": 13,
   "metadata": {
    "scrolled": true
   },
   "outputs": [
    {
     "name": "stdout",
     "output_type": "stream",
     "text": [
      "+-------------------+-------------------+----------------+-----------------+----------+\n",
      "|         trip_start|           trip_end|duration_seconds|__index_level_0__| trip_date|\n",
      "+-------------------+-------------------+----------------+-----------------+----------+\n",
      "|2018-01-01 00:05:06|2018-01-01 00:14:18|           552.0|                0|2018-01-01|\n",
      "|2018-01-01 00:14:30|2018-01-01 00:35:53|          1283.0|                1|2018-01-01|\n",
      "|2018-01-01 00:14:53|2018-01-01 00:35:58|          1265.0|                2|2018-01-01|\n",
      "|2018-01-01 00:15:31|2018-01-01 00:25:09|           578.0|                3|2018-01-01|\n",
      "|2018-01-01 00:18:02|2018-01-01 00:24:15|           373.0|                4|2018-01-01|\n",
      "+-------------------+-------------------+----------------+-----------------+----------+\n",
      "only showing top 5 rows\n",
      "\n"
     ]
    }
   ],
   "source": [
    "duration.show(5)"
   ]
  },
  {
   "cell_type": "code",
   "execution_count": 14,
   "metadata": {},
   "outputs": [
    {
     "name": "stdout",
     "output_type": "stream",
     "text": [
      "+----------+----------+-------------+\n",
      "| trip_date|trip_count|total_seconds|\n",
      "+----------+----------+-------------+\n",
      "|2018-01-01|      1213|    1172992.0|\n",
      "|2018-01-02|      3792|    2846753.0|\n",
      "|2018-01-03|      4748|    3349876.0|\n",
      "|2018-01-04|      2368|    1384289.0|\n",
      "|2018-01-05|      2709|    1625301.0|\n",
      "|2018-01-06|      1489|     887357.0|\n",
      "|2018-01-07|      1753|    1241732.0|\n",
      "|2018-01-08|      4080|    2711419.0|\n",
      "|2018-01-09|      6124|    4592727.0|\n",
      "|2018-01-10|      7101|    5341556.0|\n",
      "+----------+----------+-------------+\n",
      "only showing top 10 rows\n",
      "\n"
     ]
    }
   ],
   "source": [
    "duration.createOrReplaceTempView('dv')\n",
    "trips = spark.sql(\"\"\"\n",
    "                  SELECT trip_date, count(*) as trip_count, sum(duration_seconds) as total_seconds\n",
    "                  FROM dv\n",
    "                  GROUP BY trip_date\n",
    "                  ORDER BY trip_date\n",
    "                  \"\"\")\n",
    "trips.show(10)"
   ]
  },
  {
   "cell_type": "code",
   "execution_count": 15,
   "metadata": {
    "scrolled": true
   },
   "outputs": [
    {
     "name": "stdout",
     "output_type": "stream",
     "text": [
      "+----------+----------+-------------+-----+----+----+----+----+----+----+\n",
      "| trip_date|trip_count|total_seconds| AWND|PRCP|SNOW|SNWD|TAVG|TMAX|TMIN|\n",
      "+----------+----------+-------------+-----+----+----+----+----+----+----+\n",
      "|2018-01-01|      1213|    1172992.0|11.63| 0.0| 0.0| 0.0|19.0|  26|  13|\n",
      "|2018-01-02|      3792|    2846753.0| 7.83| 0.0| 0.0| 0.0|18.0|  26|  13|\n",
      "|2018-01-03|      4748|    3349876.0|  3.8| 0.0| 0.0| 0.0|23.0|  35|  13|\n",
      "|2018-01-04|      2368|    1384289.0|19.91| 0.1| 0.8| 1.2|26.0|  27|  16|\n",
      "|2018-01-05|      2709|    1625301.0|15.66| 0.0| 0.0| 1.2|17.0|  21|  13|\n",
      "|2018-01-06|      1489|     887357.0|13.42| 0.0| 0.0| 0.0|15.0|  21|  11|\n",
      "|2018-01-07|      1753|    1241732.0| 8.95| 0.0| 0.0| 0.0|15.0|  23|   8|\n",
      "|2018-01-08|      4080|    2711419.0|  8.5|0.06| 0.0| 0.0|25.0|  39|  19|\n",
      "|2018-01-09|      6124|    4592727.0| 5.37| 0.0| 0.0| 0.0|38.0|  51|  30|\n",
      "|2018-01-10|      7101|    5341556.0| 3.36| 0.0| 0.0| 0.0|36.0|  43|  27|\n",
      "+----------+----------+-------------+-----+----+----+----+----+----+----+\n",
      "only showing top 10 rows\n",
      "\n"
     ]
    }
   ],
   "source": [
    "dat = trips.join(weather, on = ['trip_date'], how = 'inner').orderBy(col('trip_date'))\n",
    "dat.show(10)"
   ]
  },
  {
   "cell_type": "code",
   "execution_count": 19,
   "metadata": {},
   "outputs": [],
   "source": [
    "dat.write.parquet(\"./data/bikeuse-data.parquet\")"
   ]
  },
  {
   "cell_type": "code",
   "execution_count": 24,
   "metadata": {},
   "outputs": [
    {
     "name": "stdout",
     "output_type": "stream",
     "text": [
      "Project name: IBM Data Science Capstone\n"
     ]
    }
   ],
   "source": [
    "print('Project name: {0}'.format(project.get_name()))"
   ]
  },
  {
   "cell_type": "code",
   "execution_count": 26,
   "metadata": {},
   "outputs": [],
   "source": [
    "import pyarrow as pa\n",
    "import pyarrow.parquet as pq"
   ]
  },
  {
   "cell_type": "code",
   "execution_count": 30,
   "metadata": {},
   "outputs": [],
   "source": [
    "result_dat = dat.select('*').toPandas()\n",
    "result_table = pa.Table.from_pandas(result_dat, preserve_index=False)"
   ]
  },
  {
   "cell_type": "code",
   "execution_count": 31,
   "metadata": {},
   "outputs": [
    {
     "ename": "ParamValidationError",
     "evalue": "Parameter validation failed:\nInvalid type for parameter Body, value: pyarrow.Table\ntrip_date: date32[day]\ntrip_count: int64\ntotal_seconds: double\nAWND: double\nPRCP: double\nSNOW: double\nSNWD: double\nTAVG: double\nTMAX: int64\nTMIN: int64\nmetadata\n--------\nOrderedDict([(b'pandas',\n              b'{\"index_columns\": [], \"column_indexes\": [], \"columns\": [{\"na'\n              b'me\": \"trip_date\", \"field_name\": \"trip_date\", \"pandas_type\": '\n              b'\"date\", \"numpy_type\": \"object\", \"metadata\": null}, {\"name\": '\n              b'\"trip_count\", \"field_name\": \"trip_count\", \"pandas_type\": \"in'\n              b't64\", \"numpy_type\": \"int64\", \"metadata\": null}, {\"name\": \"to'\n              b'tal_seconds\", \"field_name\": \"total_seconds\", \"pandas_type\": '\n              b'\"float64\", \"numpy_type\": \"float64\", \"metadata\": null}, {\"nam'\n              b'e\": \"AWND\", \"field_name\": \"AWND\", \"pandas_type\": \"float64\", '\n              b'\"numpy_type\": \"float64\", \"metadata\": null}, {\"name\": \"PRCP\",'\n              b' \"field_name\": \"PRCP\", \"pandas_type\": \"float64\", \"numpy_type'\n              b'\": \"float64\", \"metadata\": null}, {\"name\": \"SNOW\", \"field_nam'\n              b'e\": \"SNOW\", \"pandas_type\": \"float64\", \"numpy_type\": \"float64'\n              b'\", \"metadata\": null}, {\"name\": \"SNWD\", \"field_name\": \"SNWD\",'\n              b' \"pandas_type\": \"float64\", \"numpy_type\": \"float64\", \"metadat'\n              b'a\": null}, {\"name\": \"TAVG\", \"field_name\": \"TAVG\", \"pandas_ty'\n              b'pe\": \"float64\", \"numpy_type\": \"float64\", \"metadata\": null}, '\n              b'{\"name\": \"TMAX\", \"field_name\": \"TMAX\", \"pandas_type\": \"int64'\n              b'\", \"numpy_type\": \"int64\", \"metadata\": null}, {\"name\": \"TMIN\"'\n              b', \"field_name\": \"TMIN\", \"pandas_type\": \"int64\", \"numpy_type\"'\n              b': \"int64\", \"metadata\": null}], \"creator\": {\"library\": \"pyarr'\n              b'ow\", \"version\": \"0.15.1\"}, \"pandas_version\": \"0.24.1\"}')]), type: <class 'pyarrow.lib.Table'>, valid types: <class 'bytes'>, <class 'bytearray'>, file-like object",
     "output_type": "error",
     "traceback": [
      "\u001b[0;31m---------------------------------------------------------------------------\u001b[0m",
      "\u001b[0;31mParamValidationError\u001b[0m                      Traceback (most recent call last)",
      "\u001b[0;32m<ipython-input-31-ac9ba9904cd6>\u001b[0m in \u001b[0;36m<module>\u001b[0;34m\u001b[0m\n\u001b[0;32m----> 1\u001b[0;31m \u001b[0mproject\u001b[0m\u001b[0;34m.\u001b[0m\u001b[0msave_data\u001b[0m\u001b[0;34m(\u001b[0m\u001b[0mdata\u001b[0m\u001b[0;34m=\u001b[0m\u001b[0mresult_table\u001b[0m\u001b[0;34m,\u001b[0m\u001b[0mfile_name\u001b[0m\u001b[0;34m=\u001b[0m\u001b[0;34m'bikeshare-usage.parquet'\u001b[0m\u001b[0;34m,\u001b[0m\u001b[0moverwrite\u001b[0m\u001b[0;34m=\u001b[0m\u001b[0;32mTrue\u001b[0m\u001b[0;34m)\u001b[0m\u001b[0;34m\u001b[0m\u001b[0;34m\u001b[0m\u001b[0m\n\u001b[0m",
      "\u001b[0;32m/opt/conda/envs/Python36/lib/python3.6/site-packages/project_lib/project.py\u001b[0m in \u001b[0;36msave_data\u001b[0;34m(self, file_name, data, set_project_asset, overwrite, direct_storage)\u001b[0m\n\u001b[1;32m    289\u001b[0m             \u001b[0;31m#@@@ dangerous behavior when overwrite=True\u001b[0m\u001b[0;34m\u001b[0m\u001b[0;34m\u001b[0m\u001b[0;34m\u001b[0m\u001b[0m\n\u001b[1;32m    290\u001b[0m \u001b[0;34m\u001b[0m\u001b[0m\n\u001b[0;32m--> 291\u001b[0;31m         \u001b[0mresponse\u001b[0m \u001b[0;34m=\u001b[0m \u001b[0mself\u001b[0m\u001b[0;34m.\u001b[0m\u001b[0m_core\u001b[0m\u001b[0;34m.\u001b[0m\u001b[0msave_data_to_storage\u001b[0m\u001b[0;34m(\u001b[0m\u001b[0mfile_name\u001b[0m\u001b[0;34m,\u001b[0m \u001b[0mdata\u001b[0m\u001b[0;34m,\u001b[0m \u001b[0moverwrite\u001b[0m\u001b[0;34m,\u001b[0m \u001b[0mcreate_asset\u001b[0m\u001b[0;34m)\u001b[0m\u001b[0;34m\u001b[0m\u001b[0;34m\u001b[0m\u001b[0m\n\u001b[0m\u001b[1;32m    292\u001b[0m         \u001b[0;32mif\u001b[0m \u001b[0;34m(\u001b[0m\u001b[0masset_id\u001b[0m \u001b[0;32mand\u001b[0m \u001b[0misinstance\u001b[0m\u001b[0;34m(\u001b[0m\u001b[0mresponse\u001b[0m\u001b[0;34m,\u001b[0m \u001b[0mdict\u001b[0m\u001b[0;34m)\u001b[0m\u001b[0;34m)\u001b[0m\u001b[0;34m:\u001b[0m\u001b[0;34m\u001b[0m\u001b[0;34m\u001b[0m\u001b[0m\n\u001b[1;32m    293\u001b[0m             \u001b[0;31m# overwrite case\u001b[0m\u001b[0;34m\u001b[0m\u001b[0;34m\u001b[0m\u001b[0;34m\u001b[0m\u001b[0m\n",
      "\u001b[0;32m/opt/conda/envs/Python36/lib/python3.6/site-packages/project_lib/handlers/project_core.py\u001b[0m in \u001b[0;36msave_data_to_storage\u001b[0;34m(self, asset_name, data, overwrite, create_asset)\u001b[0m\n\u001b[1;32m    113\u001b[0m         \u001b[0mfile_path\u001b[0m \u001b[0;34m=\u001b[0m \u001b[0mself\u001b[0m\u001b[0;34m.\u001b[0m\u001b[0m_storage\u001b[0m\u001b[0;34m.\u001b[0m\u001b[0mnormalize_file_name\u001b[0m\u001b[0;34m(\u001b[0m\u001b[0masset_name\u001b[0m\u001b[0;34m)\u001b[0m\u001b[0;34m\u001b[0m\u001b[0;34m\u001b[0m\u001b[0m\n\u001b[1;32m    114\u001b[0m \u001b[0;34m\u001b[0m\u001b[0m\n\u001b[0;32m--> 115\u001b[0;31m         \u001b[0mos_res\u001b[0m \u001b[0;34m=\u001b[0m \u001b[0mself\u001b[0m\u001b[0;34m.\u001b[0m\u001b[0m_storage\u001b[0m\u001b[0;34m.\u001b[0m\u001b[0mwrite_file\u001b[0m\u001b[0;34m(\u001b[0m\u001b[0mfile_path\u001b[0m\u001b[0;34m,\u001b[0m \u001b[0mdata\u001b[0m\u001b[0;34m,\u001b[0m \u001b[0moverwrite\u001b[0m\u001b[0;34m)\u001b[0m\u001b[0;34m\u001b[0m\u001b[0;34m\u001b[0m\u001b[0m\n\u001b[0m\u001b[1;32m    116\u001b[0m         \u001b[0;32mif\u001b[0m \u001b[0;32mnot\u001b[0m \u001b[0mos_res\u001b[0m\u001b[0;34m:\u001b[0m\u001b[0;34m\u001b[0m\u001b[0;34m\u001b[0m\u001b[0m\n\u001b[1;32m    117\u001b[0m             \u001b[0;32mraise\u001b[0m \u001b[0mexception\u001b[0m\u001b[0;34m(\u001b[0m\u001b[0;34m\"Failed to write file to storage.\"\u001b[0m\u001b[0;34m)\u001b[0m\u001b[0;34m\u001b[0m\u001b[0;34m\u001b[0m\u001b[0m\n",
      "\u001b[0;32m/opt/conda/envs/Python36/lib/python3.6/site-packages/project_lib/storage/bcos.py\u001b[0m in \u001b[0;36mwrite_file\u001b[0;34m(self, file_name, data, overwrite)\u001b[0m\n\u001b[1;32m     95\u001b[0m     \u001b[0;32mdef\u001b[0m \u001b[0mwrite_file\u001b[0m\u001b[0;34m(\u001b[0m\u001b[0mself\u001b[0m\u001b[0;34m,\u001b[0m \u001b[0mfile_name\u001b[0m\u001b[0;34m,\u001b[0m \u001b[0mdata\u001b[0m\u001b[0;34m,\u001b[0m \u001b[0moverwrite\u001b[0m\u001b[0;34m=\u001b[0m\u001b[0;32mNone\u001b[0m\u001b[0;34m)\u001b[0m\u001b[0;34m:\u001b[0m\u001b[0;34m\u001b[0m\u001b[0;34m\u001b[0m\u001b[0m\n\u001b[1;32m     96\u001b[0m         \u001b[0;31m# the overwrite argument is ignored here\u001b[0m\u001b[0;34m\u001b[0m\u001b[0;34m\u001b[0m\u001b[0;34m\u001b[0m\u001b[0m\n\u001b[0;32m---> 97\u001b[0;31m         \u001b[0mres\u001b[0m \u001b[0;34m=\u001b[0m \u001b[0mself\u001b[0m\u001b[0;34m.\u001b[0m\u001b[0m_cos_client\u001b[0m\u001b[0;34m.\u001b[0m\u001b[0mput_object\u001b[0m\u001b[0;34m(\u001b[0m\u001b[0mBucket\u001b[0m\u001b[0;34m=\u001b[0m\u001b[0mself\u001b[0m\u001b[0;34m.\u001b[0m\u001b[0m_bucket_name\u001b[0m\u001b[0;34m,\u001b[0m \u001b[0mKey\u001b[0m\u001b[0;34m=\u001b[0m\u001b[0mfile_name\u001b[0m\u001b[0;34m,\u001b[0m \u001b[0mBody\u001b[0m\u001b[0;34m=\u001b[0m\u001b[0mdata\u001b[0m\u001b[0;34m)\u001b[0m\u001b[0;34m\u001b[0m\u001b[0;34m\u001b[0m\u001b[0m\n\u001b[0m\u001b[1;32m     98\u001b[0m         \u001b[0mstatus_code\u001b[0m \u001b[0;34m=\u001b[0m \u001b[0mres\u001b[0m\u001b[0;34m.\u001b[0m\u001b[0mget\u001b[0m\u001b[0;34m(\u001b[0m\u001b[0;34m\"ResponseMetadata\"\u001b[0m\u001b[0;34m,\u001b[0m \u001b[0;34m{\u001b[0m\u001b[0;34m}\u001b[0m\u001b[0;34m)\u001b[0m\u001b[0;34m.\u001b[0m\u001b[0mget\u001b[0m\u001b[0;34m(\u001b[0m\u001b[0;34m\"HTTPStatusCode\"\u001b[0m\u001b[0;34m)\u001b[0m\u001b[0;34m\u001b[0m\u001b[0;34m\u001b[0m\u001b[0m\n\u001b[1;32m     99\u001b[0m         \u001b[0;32mif\u001b[0m \u001b[0;34m(\u001b[0m\u001b[0mstatus_code\u001b[0m \u001b[0;34m!=\u001b[0m \u001b[0;36m200\u001b[0m\u001b[0;34m)\u001b[0m\u001b[0;34m:\u001b[0m\u001b[0;34m\u001b[0m\u001b[0;34m\u001b[0m\u001b[0m\n",
      "\u001b[0;32m/opt/conda/envs/Python36/lib/python3.6/site-packages/ibm_botocore/client.py\u001b[0m in \u001b[0;36m_api_call\u001b[0;34m(self, *args, **kwargs)\u001b[0m\n\u001b[1;32m    270\u001b[0m                     \"%s() only accepts keyword arguments.\" % py_operation_name)\n\u001b[1;32m    271\u001b[0m             \u001b[0;31m# The \"self\" in this scope is referring to the BaseClient.\u001b[0m\u001b[0;34m\u001b[0m\u001b[0;34m\u001b[0m\u001b[0;34m\u001b[0m\u001b[0m\n\u001b[0;32m--> 272\u001b[0;31m             \u001b[0;32mreturn\u001b[0m \u001b[0mself\u001b[0m\u001b[0;34m.\u001b[0m\u001b[0m_make_api_call\u001b[0m\u001b[0;34m(\u001b[0m\u001b[0moperation_name\u001b[0m\u001b[0;34m,\u001b[0m \u001b[0mkwargs\u001b[0m\u001b[0;34m)\u001b[0m\u001b[0;34m\u001b[0m\u001b[0;34m\u001b[0m\u001b[0m\n\u001b[0m\u001b[1;32m    273\u001b[0m \u001b[0;34m\u001b[0m\u001b[0m\n\u001b[1;32m    274\u001b[0m         \u001b[0m_api_call\u001b[0m\u001b[0;34m.\u001b[0m\u001b[0m__name__\u001b[0m \u001b[0;34m=\u001b[0m \u001b[0mstr\u001b[0m\u001b[0;34m(\u001b[0m\u001b[0mpy_operation_name\u001b[0m\u001b[0;34m)\u001b[0m\u001b[0;34m\u001b[0m\u001b[0;34m\u001b[0m\u001b[0m\n",
      "\u001b[0;32m/opt/conda/envs/Python36/lib/python3.6/site-packages/ibm_botocore/client.py\u001b[0m in \u001b[0;36m_make_api_call\u001b[0;34m(self, operation_name, api_params)\u001b[0m\n\u001b[1;32m    547\u001b[0m         }\n\u001b[1;32m    548\u001b[0m         request_dict = self._convert_to_request_dict(\n\u001b[0;32m--> 549\u001b[0;31m             api_params, operation_model, context=request_context)\n\u001b[0m\u001b[1;32m    550\u001b[0m \u001b[0;34m\u001b[0m\u001b[0m\n\u001b[1;32m    551\u001b[0m         \u001b[0mservice_id\u001b[0m \u001b[0;34m=\u001b[0m \u001b[0mself\u001b[0m\u001b[0;34m.\u001b[0m\u001b[0m_service_model\u001b[0m\u001b[0;34m.\u001b[0m\u001b[0mservice_id\u001b[0m\u001b[0;34m.\u001b[0m\u001b[0mhyphenize\u001b[0m\u001b[0;34m(\u001b[0m\u001b[0;34m)\u001b[0m\u001b[0;34m\u001b[0m\u001b[0;34m\u001b[0m\u001b[0m\n",
      "\u001b[0;32m/opt/conda/envs/Python36/lib/python3.6/site-packages/ibm_botocore/client.py\u001b[0m in \u001b[0;36m_convert_to_request_dict\u001b[0;34m(self, api_params, operation_model, context)\u001b[0m\n\u001b[1;32m    595\u001b[0m             api_params, operation_model, context)\n\u001b[1;32m    596\u001b[0m         request_dict = self._serializer.serialize_to_request(\n\u001b[0;32m--> 597\u001b[0;31m             api_params, operation_model)\n\u001b[0m\u001b[1;32m    598\u001b[0m         \u001b[0;32mif\u001b[0m \u001b[0;32mnot\u001b[0m \u001b[0mself\u001b[0m\u001b[0;34m.\u001b[0m\u001b[0m_client_config\u001b[0m\u001b[0;34m.\u001b[0m\u001b[0minject_host_prefix\u001b[0m\u001b[0;34m:\u001b[0m\u001b[0;34m\u001b[0m\u001b[0;34m\u001b[0m\u001b[0m\n\u001b[1;32m    599\u001b[0m             \u001b[0mrequest_dict\u001b[0m\u001b[0;34m.\u001b[0m\u001b[0mpop\u001b[0m\u001b[0;34m(\u001b[0m\u001b[0;34m'host_prefix'\u001b[0m\u001b[0;34m,\u001b[0m \u001b[0;32mNone\u001b[0m\u001b[0;34m)\u001b[0m\u001b[0;34m\u001b[0m\u001b[0;34m\u001b[0m\u001b[0m\n",
      "\u001b[0;32m/opt/conda/envs/Python36/lib/python3.6/site-packages/ibm_botocore/validate.py\u001b[0m in \u001b[0;36mserialize_to_request\u001b[0;34m(self, parameters, operation_model)\u001b[0m\n\u001b[1;32m    295\u001b[0m                                                     operation_model.input_shape)\n\u001b[1;32m    296\u001b[0m             \u001b[0;32mif\u001b[0m \u001b[0mreport\u001b[0m\u001b[0;34m.\u001b[0m\u001b[0mhas_errors\u001b[0m\u001b[0;34m(\u001b[0m\u001b[0;34m)\u001b[0m\u001b[0;34m:\u001b[0m\u001b[0;34m\u001b[0m\u001b[0;34m\u001b[0m\u001b[0m\n\u001b[0;32m--> 297\u001b[0;31m                 \u001b[0;32mraise\u001b[0m \u001b[0mParamValidationError\u001b[0m\u001b[0;34m(\u001b[0m\u001b[0mreport\u001b[0m\u001b[0;34m=\u001b[0m\u001b[0mreport\u001b[0m\u001b[0;34m.\u001b[0m\u001b[0mgenerate_report\u001b[0m\u001b[0;34m(\u001b[0m\u001b[0;34m)\u001b[0m\u001b[0;34m)\u001b[0m\u001b[0;34m\u001b[0m\u001b[0;34m\u001b[0m\u001b[0m\n\u001b[0m\u001b[1;32m    298\u001b[0m         return self._serializer.serialize_to_request(parameters,\n\u001b[1;32m    299\u001b[0m                                                      operation_model)\n",
      "\u001b[0;31mParamValidationError\u001b[0m: Parameter validation failed:\nInvalid type for parameter Body, value: pyarrow.Table\ntrip_date: date32[day]\ntrip_count: int64\ntotal_seconds: double\nAWND: double\nPRCP: double\nSNOW: double\nSNWD: double\nTAVG: double\nTMAX: int64\nTMIN: int64\nmetadata\n--------\nOrderedDict([(b'pandas',\n              b'{\"index_columns\": [], \"column_indexes\": [], \"columns\": [{\"na'\n              b'me\": \"trip_date\", \"field_name\": \"trip_date\", \"pandas_type\": '\n              b'\"date\", \"numpy_type\": \"object\", \"metadata\": null}, {\"name\": '\n              b'\"trip_count\", \"field_name\": \"trip_count\", \"pandas_type\": \"in'\n              b't64\", \"numpy_type\": \"int64\", \"metadata\": null}, {\"name\": \"to'\n              b'tal_seconds\", \"field_name\": \"total_seconds\", \"pandas_type\": '\n              b'\"float64\", \"numpy_type\": \"float64\", \"metadata\": null}, {\"nam'\n              b'e\": \"AWND\", \"field_name\": \"AWND\", \"pandas_type\": \"float64\", '\n              b'\"numpy_type\": \"float64\", \"metadata\": null}, {\"name\": \"PRCP\",'\n              b' \"field_name\": \"PRCP\", \"pandas_type\": \"float64\", \"numpy_type'\n              b'\": \"float64\", \"metadata\": null}, {\"name\": \"SNOW\", \"field_nam'\n              b'e\": \"SNOW\", \"pandas_type\": \"float64\", \"numpy_type\": \"float64'\n              b'\", \"metadata\": null}, {\"name\": \"SNWD\", \"field_name\": \"SNWD\",'\n              b' \"pandas_type\": \"float64\", \"numpy_type\": \"float64\", \"metadat'\n              b'a\": null}, {\"name\": \"TAVG\", \"field_name\": \"TAVG\", \"pandas_ty'\n              b'pe\": \"float64\", \"numpy_type\": \"float64\", \"metadata\": null}, '\n              b'{\"name\": \"TMAX\", \"field_name\": \"TMAX\", \"pandas_type\": \"int64'\n              b'\", \"numpy_type\": \"int64\", \"metadata\": null}, {\"name\": \"TMIN\"'\n              b', \"field_name\": \"TMIN\", \"pandas_type\": \"int64\", \"numpy_type\"'\n              b': \"int64\", \"metadata\": null}], \"creator\": {\"library\": \"pyarr'\n              b'ow\", \"version\": \"0.15.1\"}, \"pandas_version\": \"0.24.1\"}')]), type: <class 'pyarrow.lib.Table'>, valid types: <class 'bytes'>, <class 'bytearray'>, file-like object"
     ]
    }
   ],
   "source": [
    "project.save_data(data=result_table,file_name='bikeshare-usage.parquet',overwrite=True)"
   ]
  }
 ],
 "metadata": {
  "kernelspec": {
   "display_name": "Python 3",
   "language": "python",
   "name": "python3"
  },
  "language_info": {
   "codemirror_mode": {
    "name": "ipython",
    "version": 3
   },
   "file_extension": ".py",
   "mimetype": "text/x-python",
   "name": "python",
   "nbconvert_exporter": "python",
   "pygments_lexer": "ipython3",
   "version": "3.7.6"
  }
 },
 "nbformat": 4,
 "nbformat_minor": 1
}

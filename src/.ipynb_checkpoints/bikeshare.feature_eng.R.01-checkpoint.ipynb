{
 "cells": [
  {
   "cell_type": "code",
   "execution_count": 1,
   "metadata": {},
   "outputs": [
    {
     "name": "stderr",
     "output_type": "stream",
     "text": [
      "Loading required package: pacman\n",
      "\n"
     ]
    }
   ],
   "source": [
    "if (!require(pacman)) install.packages('pacman')\n",
    "pacman::p_load(tidyverse,\n",
    "               arrow,\n",
    "               broom,\n",
    "               recipes,\n",
    "               parsnip,\n",
    "               tidymodels,\n",
    "               FactoMineR,\n",
    "               factoextra,\n",
    "               install = TRUE)"
   ]
  },
  {
   "cell_type": "markdown",
   "metadata": {},
   "source": [
    "load data set"
   ]
  },
  {
   "cell_type": "code",
   "execution_count": 2,
   "metadata": {},
   "outputs": [],
   "source": [
    "bikedata <- read_parquet(\".././data/bikeshare-data.parquet\")"
   ]
  },
  {
   "cell_type": "markdown",
   "metadata": {},
   "source": [
    "### Feature Engineering\n",
    "Create some intermediate features from the date field"
   ]
  },
  {
   "cell_type": "code",
   "execution_count": 3,
   "metadata": {},
   "outputs": [],
   "source": [
    "bikedata <- bikedata %>%\n",
    "    mutate(year = as.factor(lubridate::year(trip_date)),\n",
    "           month = lubridate::month(trip_date, label = TRUE),\n",
    "           wday = lubridate::wday(trip_date, label = TRUE)) %>%\n",
    "    select(-total_seconds)"
   ]
  },
  {
   "cell_type": "code",
   "execution_count": 4,
   "metadata": {
    "scrolled": false
   },
   "outputs": [
    {
     "data": {
      "text/html": [
       "<table>\n",
       "<caption>A tibble: 6 × 12</caption>\n",
       "<thead>\n",
       "\t<tr><th scope=col>trip_date</th><th scope=col>trip_count</th><th scope=col>AWND</th><th scope=col>PRCP</th><th scope=col>SNOW</th><th scope=col>SNWD</th><th scope=col>TAVG</th><th scope=col>TMAX</th><th scope=col>TMIN</th><th scope=col>year</th><th scope=col>month</th><th scope=col>wday</th></tr>\n",
       "\t<tr><th scope=col>&lt;date&gt;</th><th scope=col>&lt;int&gt;</th><th scope=col>&lt;dbl&gt;</th><th scope=col>&lt;dbl&gt;</th><th scope=col>&lt;dbl&gt;</th><th scope=col>&lt;dbl&gt;</th><th scope=col>&lt;dbl&gt;</th><th scope=col>&lt;int&gt;</th><th scope=col>&lt;int&gt;</th><th scope=col>&lt;fct&gt;</th><th scope=col>&lt;ord&gt;</th><th scope=col>&lt;ord&gt;</th></tr>\n",
       "</thead>\n",
       "<tbody>\n",
       "\t<tr><td>2018-01-01</td><td>1099</td><td>11.63</td><td>0.0</td><td>0.0</td><td>0.0</td><td>19</td><td>26</td><td>13</td><td>2018</td><td>Jan</td><td>Mon</td></tr>\n",
       "\t<tr><td>2018-01-02</td><td>3796</td><td> 7.83</td><td>0.0</td><td>0.0</td><td>0.0</td><td>18</td><td>26</td><td>13</td><td>2018</td><td>Jan</td><td>Tue</td></tr>\n",
       "\t<tr><td>2018-01-03</td><td>4742</td><td> 3.80</td><td>0.0</td><td>0.0</td><td>0.0</td><td>23</td><td>35</td><td>13</td><td>2018</td><td>Jan</td><td>Wed</td></tr>\n",
       "\t<tr><td>2018-01-04</td><td>2359</td><td>19.91</td><td>0.1</td><td>0.8</td><td>1.2</td><td>26</td><td>27</td><td>16</td><td>2018</td><td>Jan</td><td>Thu</td></tr>\n",
       "\t<tr><td>2018-01-05</td><td>2735</td><td>15.66</td><td>0.0</td><td>0.0</td><td>1.2</td><td>17</td><td>21</td><td>13</td><td>2018</td><td>Jan</td><td>Fri</td></tr>\n",
       "\t<tr><td>2018-01-06</td><td>1510</td><td>13.42</td><td>0.0</td><td>0.0</td><td>0.0</td><td>15</td><td>21</td><td>11</td><td>2018</td><td>Jan</td><td>Sat</td></tr>\n",
       "</tbody>\n",
       "</table>\n"
      ],
      "text/latex": [
       "A tibble: 6 × 12\n",
       "\\begin{tabular}{llllllllllll}\n",
       " trip\\_date & trip\\_count & AWND & PRCP & SNOW & SNWD & TAVG & TMAX & TMIN & year & month & wday\\\\\n",
       " <date> & <int> & <dbl> & <dbl> & <dbl> & <dbl> & <dbl> & <int> & <int> & <fct> & <ord> & <ord>\\\\\n",
       "\\hline\n",
       "\t 2018-01-01 & 1099 & 11.63 & 0.0 & 0.0 & 0.0 & 19 & 26 & 13 & 2018 & Jan & Mon\\\\\n",
       "\t 2018-01-02 & 3796 &  7.83 & 0.0 & 0.0 & 0.0 & 18 & 26 & 13 & 2018 & Jan & Tue\\\\\n",
       "\t 2018-01-03 & 4742 &  3.80 & 0.0 & 0.0 & 0.0 & 23 & 35 & 13 & 2018 & Jan & Wed\\\\\n",
       "\t 2018-01-04 & 2359 & 19.91 & 0.1 & 0.8 & 1.2 & 26 & 27 & 16 & 2018 & Jan & Thu\\\\\n",
       "\t 2018-01-05 & 2735 & 15.66 & 0.0 & 0.0 & 1.2 & 17 & 21 & 13 & 2018 & Jan & Fri\\\\\n",
       "\t 2018-01-06 & 1510 & 13.42 & 0.0 & 0.0 & 0.0 & 15 & 21 & 11 & 2018 & Jan & Sat\\\\\n",
       "\\end{tabular}\n"
      ],
      "text/markdown": [
       "\n",
       "A tibble: 6 × 12\n",
       "\n",
       "| trip_date &lt;date&gt; | trip_count &lt;int&gt; | AWND &lt;dbl&gt; | PRCP &lt;dbl&gt; | SNOW &lt;dbl&gt; | SNWD &lt;dbl&gt; | TAVG &lt;dbl&gt; | TMAX &lt;int&gt; | TMIN &lt;int&gt; | year &lt;fct&gt; | month &lt;ord&gt; | wday &lt;ord&gt; |\n",
       "|---|---|---|---|---|---|---|---|---|---|---|---|\n",
       "| 2018-01-01 | 1099 | 11.63 | 0.0 | 0.0 | 0.0 | 19 | 26 | 13 | 2018 | Jan | Mon |\n",
       "| 2018-01-02 | 3796 |  7.83 | 0.0 | 0.0 | 0.0 | 18 | 26 | 13 | 2018 | Jan | Tue |\n",
       "| 2018-01-03 | 4742 |  3.80 | 0.0 | 0.0 | 0.0 | 23 | 35 | 13 | 2018 | Jan | Wed |\n",
       "| 2018-01-04 | 2359 | 19.91 | 0.1 | 0.8 | 1.2 | 26 | 27 | 16 | 2018 | Jan | Thu |\n",
       "| 2018-01-05 | 2735 | 15.66 | 0.0 | 0.0 | 1.2 | 17 | 21 | 13 | 2018 | Jan | Fri |\n",
       "| 2018-01-06 | 1510 | 13.42 | 0.0 | 0.0 | 0.0 | 15 | 21 | 11 | 2018 | Jan | Sat |\n",
       "\n"
      ],
      "text/plain": [
       "  trip_date  trip_count AWND  PRCP SNOW SNWD TAVG TMAX TMIN year month wday\n",
       "1 2018-01-01 1099       11.63 0.0  0.0  0.0  19   26   13   2018 Jan   Mon \n",
       "2 2018-01-02 3796        7.83 0.0  0.0  0.0  18   26   13   2018 Jan   Tue \n",
       "3 2018-01-03 4742        3.80 0.0  0.0  0.0  23   35   13   2018 Jan   Wed \n",
       "4 2018-01-04 2359       19.91 0.1  0.8  1.2  26   27   16   2018 Jan   Thu \n",
       "5 2018-01-05 2735       15.66 0.0  0.0  1.2  17   21   13   2018 Jan   Fri \n",
       "6 2018-01-06 1510       13.42 0.0  0.0  0.0  15   21   11   2018 Jan   Sat "
      ]
     },
     "metadata": {},
     "output_type": "display_data"
    }
   ],
   "source": [
    "head(bikedata)"
   ]
  },
  {
   "cell_type": "markdown",
   "metadata": {},
   "source": [
    " split into training and test data sets based on time period"
   ]
  },
  {
   "cell_type": "code",
   "execution_count": 5,
   "metadata": {},
   "outputs": [],
   "source": [
    "train_row_length <- floor(NROW(bikedata) * 0.80) # use a 80/20 split\n",
    "\n",
    "train_set <- bikedata[1:train_row_length, ]\n",
    "test_set  <- bikedata[train_row_length:NROW(bikedata),]"
   ]
  },
  {
   "cell_type": "markdown",
   "metadata": {},
   "source": [
    "build some simple models to look at predictive ability"
   ]
  },
  {
   "cell_type": "code",
   "execution_count": 6,
   "metadata": {},
   "outputs": [],
   "source": [
    "# create model recipe to preduct trip count\n",
    "rec_count <- recipe(trip_count ~ ., data = bikedata) %>%\n",
    "    update_role(trip_date, new_role = 'ID') %>%\n",
    "    step_dummy(all_nominal(),\n",
    "               one_hot = FALSE) %>%\n",
    "    step_center(all_predictors()) %>%\n",
    "    step_scale(all_predictors()) %>%\n",
    "    step_zv(all_predictors())"
   ]
  },
  {
   "cell_type": "code",
   "execution_count": 7,
   "metadata": {
    "scrolled": true
   },
   "outputs": [
    {
     "data": {
      "text/plain": [
       "Data Recipe\n",
       "\n",
       "Inputs:\n",
       "\n",
       "      role #variables\n",
       "        ID          1\n",
       "   outcome          1\n",
       " predictor         10\n",
       "\n",
       "Training data contained 779 data points and 1 incomplete row. \n",
       "\n",
       "Operations:\n",
       "\n",
       "Dummy variables from year, month, wday [trained]\n",
       "Centering for AWND, PRCP, SNOW, SNWD, TAVG, TMAX, ... [trained]\n",
       "Scaling for AWND, PRCP, SNOW, SNWD, TAVG, TMAX, ... [trained]\n",
       "Zero variance filter removed no terms [trained]"
      ]
     },
     "metadata": {},
     "output_type": "display_data"
    }
   ],
   "source": [
    "# apply this recipe to the train data\n",
    "rec_count <- prep(rec_count, training = train_set)\n",
    "rec_count"
   ]
  },
  {
   "cell_type": "code",
   "execution_count": 8,
   "metadata": {},
   "outputs": [],
   "source": [
    "count_train <- juice(rec_count)\n",
    "count_test  <- bake(rec_count, test_set)"
   ]
  },
  {
   "cell_type": "code",
   "execution_count": 9,
   "metadata": {
    "scrolled": false
   },
   "outputs": [
    {
     "data": {
      "text/html": [
       "<table>\n",
       "<caption>A tibble: 3 × 28</caption>\n",
       "<thead>\n",
       "\t<tr><th scope=col>trip_date</th><th scope=col>AWND</th><th scope=col>PRCP</th><th scope=col>SNOW</th><th scope=col>SNWD</th><th scope=col>TAVG</th><th scope=col>TMAX</th><th scope=col>TMIN</th><th scope=col>trip_count</th><th scope=col>year_X2019</th><th scope=col>...</th><th scope=col>month_08</th><th scope=col>month_09</th><th scope=col>month_10</th><th scope=col>month_11</th><th scope=col>wday_1</th><th scope=col>wday_2</th><th scope=col>wday_3</th><th scope=col>wday_4</th><th scope=col>wday_5</th><th scope=col>wday_6</th></tr>\n",
       "\t<tr><th scope=col>&lt;date&gt;</th><th scope=col>&lt;dbl&gt;</th><th scope=col>&lt;dbl&gt;</th><th scope=col>&lt;dbl&gt;</th><th scope=col>&lt;dbl&gt;</th><th scope=col>&lt;dbl&gt;</th><th scope=col>&lt;dbl&gt;</th><th scope=col>&lt;dbl&gt;</th><th scope=col>&lt;int&gt;</th><th scope=col>&lt;dbl&gt;</th><th scope=col>...</th><th scope=col>&lt;dbl&gt;</th><th scope=col>&lt;dbl&gt;</th><th scope=col>&lt;dbl&gt;</th><th scope=col>&lt;dbl&gt;</th><th scope=col>&lt;dbl&gt;</th><th scope=col>&lt;dbl&gt;</th><th scope=col>&lt;dbl&gt;</th><th scope=col>&lt;dbl&gt;</th><th scope=col>&lt;dbl&gt;</th><th scope=col>&lt;dbl&gt;</th></tr>\n",
       "</thead>\n",
       "<tbody>\n",
       "\t<tr><td>2018-01-01</td><td> 0.9177032</td><td>-0.3734403</td><td>-0.08366953</td><td>-0.09976224</td><td>-2.275642</td><td>-2.243571</td><td>-2.20199</td><td>1099</td><td>-0.9383553</td><td>...</td><td>0.1549744</td><td>-0.06994748</td><td>0.01133315</td><td>0.0001198467</td><td>-0.99791599</td><td> 0.001111894</td><td> 1.07643249</td><td>-1.4895470</td><td> 1.1532813845</td><td>-0.5229105</td></tr>\n",
       "\t<tr><td>2018-01-02</td><td>-0.2270282</td><td>-0.3734403</td><td>-0.08366953</td><td>-0.09976224</td><td>-2.332910</td><td>-2.243571</td><td>-2.20199</td><td>3796</td><td>-0.9383553</td><td>...</td><td>0.1549744</td><td>-0.06994748</td><td>0.01133315</td><td>0.0001198467</td><td>-0.49799537</td><td>-0.865053223</td><td> 1.07643249</td><td> 0.2146676</td><td>-1.4407692369</td><td> 1.3037589</td></tr>\n",
       "\t<tr><td>2018-01-03</td><td>-1.4410459</td><td>-0.3734403</td><td>-0.08366953</td><td>-0.09976224</td><td>-2.046569</td><td>-1.755224</td><td>-2.20199</td><td>4742</td><td>-0.9383553</td><td>...</td><td>0.1549744</td><td>-0.06994748</td><td>0.01133315</td><td>0.0001198467</td><td> 0.00192524</td><td>-1.153774928</td><td>-0.00277074</td><td> 1.2798018</td><td> 0.0003699972</td><td>-1.7406901</td></tr>\n",
       "</tbody>\n",
       "</table>\n"
      ],
      "text/latex": [
       "A tibble: 3 × 28\n",
       "\\begin{tabular}{lllllllllllllllllllll}\n",
       " trip\\_date & AWND & PRCP & SNOW & SNWD & TAVG & TMAX & TMIN & trip\\_count & year\\_X2019 & ... & month\\_08 & month\\_09 & month\\_10 & month\\_11 & wday\\_1 & wday\\_2 & wday\\_3 & wday\\_4 & wday\\_5 & wday\\_6\\\\\n",
       " <date> & <dbl> & <dbl> & <dbl> & <dbl> & <dbl> & <dbl> & <dbl> & <int> & <dbl> & ... & <dbl> & <dbl> & <dbl> & <dbl> & <dbl> & <dbl> & <dbl> & <dbl> & <dbl> & <dbl>\\\\\n",
       "\\hline\n",
       "\t 2018-01-01 &  0.9177032 & -0.3734403 & -0.08366953 & -0.09976224 & -2.275642 & -2.243571 & -2.20199 & 1099 & -0.9383553 & ... & 0.1549744 & -0.06994748 & 0.01133315 & 0.0001198467 & -0.99791599 &  0.001111894 &  1.07643249 & -1.4895470 &  1.1532813845 & -0.5229105\\\\\n",
       "\t 2018-01-02 & -0.2270282 & -0.3734403 & -0.08366953 & -0.09976224 & -2.332910 & -2.243571 & -2.20199 & 3796 & -0.9383553 & ... & 0.1549744 & -0.06994748 & 0.01133315 & 0.0001198467 & -0.49799537 & -0.865053223 &  1.07643249 &  0.2146676 & -1.4407692369 &  1.3037589\\\\\n",
       "\t 2018-01-03 & -1.4410459 & -0.3734403 & -0.08366953 & -0.09976224 & -2.046569 & -1.755224 & -2.20199 & 4742 & -0.9383553 & ... & 0.1549744 & -0.06994748 & 0.01133315 & 0.0001198467 &  0.00192524 & -1.153774928 & -0.00277074 &  1.2798018 &  0.0003699972 & -1.7406901\\\\\n",
       "\\end{tabular}\n"
      ],
      "text/markdown": [
       "\n",
       "A tibble: 3 × 28\n",
       "\n",
       "| trip_date &lt;date&gt; | AWND &lt;dbl&gt; | PRCP &lt;dbl&gt; | SNOW &lt;dbl&gt; | SNWD &lt;dbl&gt; | TAVG &lt;dbl&gt; | TMAX &lt;dbl&gt; | TMIN &lt;dbl&gt; | trip_count &lt;int&gt; | year_X2019 &lt;dbl&gt; | ... ... | month_08 &lt;dbl&gt; | month_09 &lt;dbl&gt; | month_10 &lt;dbl&gt; | month_11 &lt;dbl&gt; | wday_1 &lt;dbl&gt; | wday_2 &lt;dbl&gt; | wday_3 &lt;dbl&gt; | wday_4 &lt;dbl&gt; | wday_5 &lt;dbl&gt; | wday_6 &lt;dbl&gt; |\n",
       "|---|---|---|---|---|---|---|---|---|---|---|---|---|---|---|---|---|---|---|---|---|\n",
       "| 2018-01-01 |  0.9177032 | -0.3734403 | -0.08366953 | -0.09976224 | -2.275642 | -2.243571 | -2.20199 | 1099 | -0.9383553 | ... | 0.1549744 | -0.06994748 | 0.01133315 | 0.0001198467 | -0.99791599 |  0.001111894 |  1.07643249 | -1.4895470 |  1.1532813845 | -0.5229105 |\n",
       "| 2018-01-02 | -0.2270282 | -0.3734403 | -0.08366953 | -0.09976224 | -2.332910 | -2.243571 | -2.20199 | 3796 | -0.9383553 | ... | 0.1549744 | -0.06994748 | 0.01133315 | 0.0001198467 | -0.49799537 | -0.865053223 |  1.07643249 |  0.2146676 | -1.4407692369 |  1.3037589 |\n",
       "| 2018-01-03 | -1.4410459 | -0.3734403 | -0.08366953 | -0.09976224 | -2.046569 | -1.755224 | -2.20199 | 4742 | -0.9383553 | ... | 0.1549744 | -0.06994748 | 0.01133315 | 0.0001198467 |  0.00192524 | -1.153774928 | -0.00277074 |  1.2798018 |  0.0003699972 | -1.7406901 |\n",
       "\n"
      ],
      "text/plain": [
       "  trip_date  AWND       PRCP       SNOW        SNWD        TAVG      TMAX     \n",
       "1 2018-01-01  0.9177032 -0.3734403 -0.08366953 -0.09976224 -2.275642 -2.243571\n",
       "2 2018-01-02 -0.2270282 -0.3734403 -0.08366953 -0.09976224 -2.332910 -2.243571\n",
       "3 2018-01-03 -1.4410459 -0.3734403 -0.08366953 -0.09976224 -2.046569 -1.755224\n",
       "  TMIN     trip_count year_X2019 ... month_08  month_09    month_10  \n",
       "1 -2.20199 1099       -0.9383553 ... 0.1549744 -0.06994748 0.01133315\n",
       "2 -2.20199 3796       -0.9383553 ... 0.1549744 -0.06994748 0.01133315\n",
       "3 -2.20199 4742       -0.9383553 ... 0.1549744 -0.06994748 0.01133315\n",
       "  month_11     wday_1      wday_2       wday_3      wday_4     wday_5       \n",
       "1 0.0001198467 -0.99791599  0.001111894  1.07643249 -1.4895470  1.1532813845\n",
       "2 0.0001198467 -0.49799537 -0.865053223  1.07643249  0.2146676 -1.4407692369\n",
       "3 0.0001198467  0.00192524 -1.153774928 -0.00277074  1.2798018  0.0003699972\n",
       "  wday_6    \n",
       "1 -0.5229105\n",
       "2  1.3037589\n",
       "3 -1.7406901"
      ]
     },
     "metadata": {},
     "output_type": "display_data"
    }
   ],
   "source": [
    "head(count_train, 3)"
   ]
  },
  {
   "cell_type": "markdown",
   "metadata": {},
   "source": [
    "### Dimension Reduction\n",
    "PCA"
   ]
  },
  {
   "cell_type": "code",
   "execution_count": 10,
   "metadata": {},
   "outputs": [],
   "source": [
    "count_pca <- count_train %>%\n",
    "    select(-trip_count) %>%\n",
    "    select_if(is.numeric) %>%\n",
    "    drop_na() %>%\n",
    "    PCA(scale.unit = TRUE, graph = FALSE, ncp = 5)"
   ]
  },
  {
   "cell_type": "code",
   "execution_count": 11,
   "metadata": {},
   "outputs": [
    {
     "data": {
      "text/html": [
       "<table>\n",
       "<caption>A matrix: 10 × 3 of type dbl</caption>\n",
       "<thead>\n",
       "\t<tr><th></th><th scope=col>eigenvalue</th><th scope=col>variance.percent</th><th scope=col>cumulative.variance.percent</th></tr>\n",
       "</thead>\n",
       "<tbody>\n",
       "\t<tr><th scope=row>Dim.1</th><td>4.017137</td><td>15.450526</td><td>15.45053</td></tr>\n",
       "\t<tr><th scope=row>Dim.2</th><td>1.531138</td><td> 5.888994</td><td>21.33952</td></tr>\n",
       "\t<tr><th scope=row>Dim.3</th><td>1.400146</td><td> 5.385178</td><td>26.72470</td></tr>\n",
       "\t<tr><th scope=row>Dim.4</th><td>1.229002</td><td> 4.726930</td><td>31.45163</td></tr>\n",
       "\t<tr><th scope=row>Dim.5</th><td>1.181594</td><td> 4.544591</td><td>35.99622</td></tr>\n",
       "\t<tr><th scope=row>Dim.6</th><td>1.085168</td><td> 4.173724</td><td>40.16994</td></tr>\n",
       "\t<tr><th scope=row>Dim.7</th><td>1.042881</td><td> 4.011082</td><td>44.18103</td></tr>\n",
       "\t<tr><th scope=row>Dim.8</th><td>1.036042</td><td> 3.984777</td><td>48.16580</td></tr>\n",
       "\t<tr><th scope=row>Dim.9</th><td>1.016874</td><td> 3.911053</td><td>52.07686</td></tr>\n",
       "\t<tr><th scope=row>Dim.10</th><td>1.005852</td><td> 3.868661</td><td>55.94552</td></tr>\n",
       "</tbody>\n",
       "</table>\n"
      ],
      "text/latex": [
       "A matrix: 10 × 3 of type dbl\n",
       "\\begin{tabular}{r|lll}\n",
       "  & eigenvalue & variance.percent & cumulative.variance.percent\\\\\n",
       "\\hline\n",
       "\tDim.1 & 4.017137 & 15.450526 & 15.45053\\\\\n",
       "\tDim.2 & 1.531138 &  5.888994 & 21.33952\\\\\n",
       "\tDim.3 & 1.400146 &  5.385178 & 26.72470\\\\\n",
       "\tDim.4 & 1.229002 &  4.726930 & 31.45163\\\\\n",
       "\tDim.5 & 1.181594 &  4.544591 & 35.99622\\\\\n",
       "\tDim.6 & 1.085168 &  4.173724 & 40.16994\\\\\n",
       "\tDim.7 & 1.042881 &  4.011082 & 44.18103\\\\\n",
       "\tDim.8 & 1.036042 &  3.984777 & 48.16580\\\\\n",
       "\tDim.9 & 1.016874 &  3.911053 & 52.07686\\\\\n",
       "\tDim.10 & 1.005852 &  3.868661 & 55.94552\\\\\n",
       "\\end{tabular}\n"
      ],
      "text/markdown": [
       "\n",
       "A matrix: 10 × 3 of type dbl\n",
       "\n",
       "| <!--/--> | eigenvalue | variance.percent | cumulative.variance.percent |\n",
       "|---|---|---|---|\n",
       "| Dim.1 | 4.017137 | 15.450526 | 15.45053 |\n",
       "| Dim.2 | 1.531138 |  5.888994 | 21.33952 |\n",
       "| Dim.3 | 1.400146 |  5.385178 | 26.72470 |\n",
       "| Dim.4 | 1.229002 |  4.726930 | 31.45163 |\n",
       "| Dim.5 | 1.181594 |  4.544591 | 35.99622 |\n",
       "| Dim.6 | 1.085168 |  4.173724 | 40.16994 |\n",
       "| Dim.7 | 1.042881 |  4.011082 | 44.18103 |\n",
       "| Dim.8 | 1.036042 |  3.984777 | 48.16580 |\n",
       "| Dim.9 | 1.016874 |  3.911053 | 52.07686 |\n",
       "| Dim.10 | 1.005852 |  3.868661 | 55.94552 |\n",
       "\n"
      ],
      "text/plain": [
       "       eigenvalue variance.percent cumulative.variance.percent\n",
       "Dim.1  4.017137   15.450526        15.45053                   \n",
       "Dim.2  1.531138    5.888994        21.33952                   \n",
       "Dim.3  1.400146    5.385178        26.72470                   \n",
       "Dim.4  1.229002    4.726930        31.45163                   \n",
       "Dim.5  1.181594    4.544591        35.99622                   \n",
       "Dim.6  1.085168    4.173724        40.16994                   \n",
       "Dim.7  1.042881    4.011082        44.18103                   \n",
       "Dim.8  1.036042    3.984777        48.16580                   \n",
       "Dim.9  1.016874    3.911053        52.07686                   \n",
       "Dim.10 1.005852    3.868661        55.94552                   "
      ]
     },
     "metadata": {},
     "output_type": "display_data"
    }
   ],
   "source": [
    "get_eigenvalue(count_pca) %>% head(10)"
   ]
  },
  {
   "cell_type": "code",
   "execution_count": 12,
   "metadata": {},
   "outputs": [
    {
     "data": {
      "image/png": "[encoded data removed]",
      "text/plain": [
       "plot without title"
      ]
     },
     "metadata": {
      "image/png": {
       "height": 420,
       "width": 420
      }
     },
     "output_type": "display_data"
    }
   ],
   "source": [
    "factoextra::fviz_eig(count_pca, addlabels = TRUE)"
   ]
  },
  {
   "cell_type": "code",
   "execution_count": 13,
   "metadata": {
    "scrolled": true
   },
   "outputs": [
    {
     "data": {
      "image/png": "[encoded data removed]",
      "text/plain": [
       "plot without title"
      ]
     },
     "metadata": {
      "image/png": {
       "height": 420,
       "width": 420
      }
     },
     "output_type": "display_data"
    }
   ],
   "source": [
    "fviz_contrib(count_pca, choice = \"var\", axes = 1, top = 10)"
   ]
  },
  {
   "cell_type": "markdown",
   "metadata": {},
   "source": [
    "Based on this, it doesn't look like PCA helps very much. We will proceed with all variables."
   ]
  },
  {
   "cell_type": "markdown",
   "metadata": {},
   "source": [
    "Save the data set"
   ]
  },
  {
   "cell_type": "code",
   "execution_count": 14,
   "metadata": {},
   "outputs": [],
   "source": [
    "bike_data_grid <- bake(rec_count, bikedata)"
   ]
  },
  {
   "cell_type": "code",
   "execution_count": 17,
   "metadata": {},
   "outputs": [],
   "source": [
    "write_parquet(bike_data_grid, \".././data/bikeshare-data-grid.parquet\")"
   ]
  }
 ],
 "metadata": {
  "kernelspec": {
   "display_name": "R",
   "language": "R",
   "name": "ir"
  },
  "language_info": {
   "codemirror_mode": "r",
   "file_extension": ".r",
   "mimetype": "text/x-r-source",
   "name": "R",
   "pygments_lexer": "r",
   "version": "4.0.2"
  }
 },
 "nbformat": 4,
 "nbformat_minor": 4
}

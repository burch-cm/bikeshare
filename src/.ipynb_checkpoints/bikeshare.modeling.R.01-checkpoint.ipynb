{
 "cells": [
  {
   "cell_type": "code",
   "execution_count": 2,
   "metadata": {},
   "outputs": [],
   "source": [
    "if (!require(pacman)) install.packages('pacman')\n",
    "pacman::p_load(tidyverse,\n",
    "               tidymodels,\n",
    "               arrow,\n",
    "               install = TRUE)"
   ]
  },
  {
   "cell_type": "markdown",
   "metadata": {},
   "source": [
    "Load Data"
   ]
  },
  {
   "cell_type": "code",
   "execution_count": null,
   "metadata": {},
   "outputs": [],
   "source": [
    "bikedata <- read_parquet(\".././data/bikeshare-data.parquet\")\n",
    "bikedata <- bikedata %>%\n",
    "    select(-total_seconds) %>%\n",
    "    drop_na()"
   ]
  },
  {
   "cell_type": "code",
   "execution_count": 7,
   "metadata": {},
   "outputs": [],
   "source": [
    "bd_split <- rsample::initial_split(bikedata, prop = 0.9)"
   ]
  },
  {
   "cell_type": "code",
   "execution_count": 8,
   "metadata": {},
   "outputs": [],
   "source": [
    "count_train <- training(bd_split)\n",
    "count_test  <- testing(bd_split)"
   ]
  },
  {
   "cell_type": "markdown",
   "metadata": {},
   "source": [
    "### Preprocessing"
   ]
  },
  {
   "cell_type": "code",
   "execution_count": 9,
   "metadata": {},
   "outputs": [
    {
     "data": {
      "text/plain": [
       "Data Recipe\n",
       "\n",
       "Inputs:\n",
       "\n",
       "      role #variables\n",
       "        ID          1\n",
       "   outcome          1\n",
       " predictor          7\n",
       "\n",
       "Operations:\n",
       "\n",
       "Centering for all_predictors()\n",
       "Scaling for all_predictors()\n",
       "Dummy variables from all_nominal()\n",
       "Zero variance filter on all_predictors()"
      ]
     },
     "metadata": {},
     "output_type": "display_data"
    }
   ],
   "source": [
    "# center and scale numeric data, create dummy vars from categorical data\n",
    "preproc <- recipe(trip_count ~ ., data = bikedata) %>%\n",
    "    update_role(trip_date, new_role = 'ID') %>%\n",
    "    step_center(all_predictors()) %>%\n",
    "    step_scale(all_predictors()) %>%\n",
    "    step_dummy(all_nominal(),\n",
    "               one_hot = FALSE) %>%\n",
    "    step_zv(all_predictors())\n",
    "preproc"
   ]
  },
  {
   "cell_type": "markdown",
   "metadata": {},
   "source": [
    "### Model Definition"
   ]
  },
  {
   "cell_type": "code",
   "execution_count": 10,
   "metadata": {},
   "outputs": [],
   "source": [
    "lm_model <- linear_reg(mode = 'regression') %>%\n",
    "    set_engine('lm')"
   ]
  },
  {
   "cell_type": "code",
   "execution_count": 24,
   "metadata": {},
   "outputs": [],
   "source": [
    "rf_model <- rand_forest() %>%\n",
    "    set_engine(\"ranger\") %>%\n",
    "    set_mode(\"regression\") %>%\n",
    "    translate()"
   ]
  },
  {
   "cell_type": "code",
   "execution_count": 38,
   "metadata": {},
   "outputs": [],
   "source": [
    "keras_model <- mlp(hidden_units = 5, activation = \"relu\") %>%\n",
    "    set_engine(\"keras\") %>%\n",
    "    set_mode(\"regression\") %>%\n",
    "    translate()"
   ]
  },
  {
   "cell_type": "markdown",
   "metadata": {},
   "source": [
    "### Build Workflow"
   ]
  },
  {
   "cell_type": "code",
   "execution_count": null,
   "metadata": {},
   "outputs": [],
   "source": [
    "lm_wflow <- workflow() %>%\n",
    "    add_recipe(preproc) %>%\n",
    "    add_model(lm_model)\n",
    "\n",
    "rf_wflow <- workflow() %>%\n",
    "    add_recipe(preproc) %>%\n",
    "    add_model(rf_model)"
   ]
  },
  {
   "cell_type": "code",
   "execution_count": 25,
   "metadata": {},
   "outputs": [],
   "source": [
    "keras_wflow <- workflow() %>%\n",
    "  add_recipe(preproc) %>%\n",
    "  add_model(keras_model)"
   ]
  },
  {
   "cell_type": "markdown",
   "metadata": {},
   "source": [
    "Simple fitting; no grid tuning"
   ]
  },
  {
   "cell_type": "code",
   "execution_count": 28,
   "metadata": {},
   "outputs": [],
   "source": [
    "lm_fit <- fit(lm_wflow, data = count_train)\n",
    "lm_pred <- predict(lm_fit, new_data = count_train)"
   ]
  },
  {
   "cell_type": "code",
   "execution_count": 35,
   "metadata": {},
   "outputs": [],
   "source": [
    "rf_fit <- fit(rf_wflow, data = count_train)\n",
    "rf_pred <- predict(rf_fit, new_data = count_train)"
   ]
  },
  {
   "cell_type": "code",
   "execution_count": 36,
   "metadata": {},
   "outputs": [
    {
     "data": {
      "text/html": [
       "<table>\n",
       "<caption>A tibble: 2 × 2</caption>\n",
       "<thead>\n",
       "\t<tr><th scope=col>model</th><th scope=col>error</th></tr>\n",
       "\t<tr><th scope=col>&lt;chr&gt;</th><th scope=col>&lt;dbl&gt;</th></tr>\n",
       "</thead>\n",
       "<tbody>\n",
       "\t<tr><td>linear regression</td><td>2803.071</td></tr>\n",
       "\t<tr><td>random forest    </td><td>1766.074</td></tr>\n",
       "</tbody>\n",
       "</table>\n"
      ],
      "text/latex": [
       "A tibble: 2 × 2\n",
       "\\begin{tabular}{ll}\n",
       " model & error\\\\\n",
       " <chr> & <dbl>\\\\\n",
       "\\hline\n",
       "\t linear regression & 2803.071\\\\\n",
       "\t random forest     & 1766.074\\\\\n",
       "\\end{tabular}\n"
      ],
      "text/markdown": [
       "\n",
       "A tibble: 2 × 2\n",
       "\n",
       "| model &lt;chr&gt; | error &lt;dbl&gt; |\n",
       "|---|---|\n",
       "| linear regression | 2803.071 |\n",
       "| random forest     | 1766.074 |\n",
       "\n"
      ],
      "text/plain": [
       "  model             error   \n",
       "1 linear regression 2803.071\n",
       "2 random forest     1766.074"
      ]
     },
     "metadata": {},
     "output_type": "display_data"
    }
   ],
   "source": [
    "lm_rmse <- rmse_vec(truth = count_train$trip_count, estimate = lm_pred$`.pred`)\n",
    "rf_rmse <- rmse_vec(truth = count_train$trip_count, estimate = rf_pred$`.pred`)\n",
    "tibble(model = c(\"linear regression\", \"random forest\"),\n",
    "       error = c(lm_rmse, rf_rmse))"
   ]
  },
  {
   "cell_type": "code",
   "execution_count": null,
   "metadata": {},
   "outputs": [],
   "source": []
  }
 ],
 "metadata": {
  "kernelspec": {
   "display_name": "R",
   "language": "R",
   "name": "ir"
  },
  "language_info": {
   "codemirror_mode": "r",
   "file_extension": ".r",
   "mimetype": "text/x-r-source",
   "name": "R",
   "pygments_lexer": "r",
   "version": "4.0.2"
  }
 },
 "nbformat": 4,
 "nbformat_minor": 4
}

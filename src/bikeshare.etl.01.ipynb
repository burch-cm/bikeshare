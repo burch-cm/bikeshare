{
 "cells": [
  {
   "cell_type": "code",
   "execution_count": 27,
   "metadata": {},
   "outputs": [],
   "source": [
    "import numpy as np\n",
    "from pyspark import SparkContext, SparkConf\n",
    "from pyspark.sql import SQLContext, SparkSession\n",
    "from pyspark.sql.types import StructType, StructField, DoubleType, IntegerType, StringType\n",
    "sc = SparkContext.getOrCreate(SparkConf().setMaster(\"local[*]\"))\n",
    "from pyspark.mllib.stat import Statistics\n",
    "from pyspark.sql import SparkSession\n",
    "from pyspark.sql.functions import *\n",
    "import pyarrow as pa\n",
    "import pyarrow.parquet as pq"
   ]
  },
  {
   "cell_type": "code",
   "execution_count": 3,
   "metadata": {},
   "outputs": [],
   "source": [
    "spark = SparkSession \\\n",
    "    .builder \\\n",
    "    .getOrCreate()"
   ]
  },
  {
   "cell_type": "code",
   "execution_count": 10,
   "metadata": {},
   "outputs": [],
   "source": [
    "weather = spark.read.parquet('../data/weather-data.parquet')\n",
    "duration = spark.read.parquet('../data/duration-data.parquet')"
   ]
  },
  {
   "cell_type": "code",
   "execution_count": 11,
   "metadata": {},
   "outputs": [
    {
     "data": {
      "text/plain": [
       "986"
      ]
     },
     "execution_count": 11,
     "metadata": {},
     "output_type": "execute_result"
    }
   ],
   "source": [
    "weather.count()"
   ]
  },
  {
   "cell_type": "code",
   "execution_count": 12,
   "metadata": {},
   "outputs": [
    {
     "data": {
      "text/plain": [
       "8343849"
      ]
     },
     "execution_count": 12,
     "metadata": {},
     "output_type": "execute_result"
    }
   ],
   "source": [
    "duration.count()"
   ]
  },
  {
   "cell_type": "code",
   "execution_count": 13,
   "metadata": {},
   "outputs": [
    {
     "name": "stdout",
     "output_type": "stream",
     "text": [
      "+----------+-----+----+----+----+----+----+----+\n",
      "| trip_date| AWND|PRCP|SNOW|SNWD|TAVG|TMAX|TMIN|\n",
      "+----------+-----+----+----+----+----+----+----+\n",
      "|2018-01-01|11.63| 0.0| 0.0| 0.0|19.0|  26|  13|\n",
      "|2018-01-02| 7.83| 0.0| 0.0| 0.0|18.0|  26|  13|\n",
      "|2018-01-03|  3.8| 0.0| 0.0| 0.0|23.0|  35|  13|\n",
      "|2018-01-04|19.91| 0.1| 0.8| 1.2|26.0|  27|  16|\n",
      "|2018-01-05|15.66| 0.0| 0.0| 1.2|17.0|  21|  13|\n",
      "+----------+-----+----+----+----+----+----+----+\n",
      "only showing top 5 rows\n",
      "\n"
     ]
    }
   ],
   "source": [
    "weather = weather.withColumnRenamed(\"DATE\", \"trip_date\")\n",
    "weather.show(5)"
   ]
  },
  {
   "cell_type": "code",
   "execution_count": 14,
   "metadata": {},
   "outputs": [
    {
     "name": "stdout",
     "output_type": "stream",
     "text": [
      "+-------------------+-------------------+----------------+-----------------+\n",
      "|         trip_start|           trip_end|duration_seconds|__index_level_0__|\n",
      "+-------------------+-------------------+----------------+-----------------+\n",
      "|2017-12-31 19:05:06|2017-12-31 19:14:18|           552.0|                0|\n",
      "|2017-12-31 19:14:30|2017-12-31 19:35:53|          1283.0|                1|\n",
      "|2017-12-31 19:14:53|2017-12-31 19:35:58|          1265.0|                2|\n",
      "|2017-12-31 19:15:31|2017-12-31 19:25:09|           578.0|                3|\n",
      "|2017-12-31 19:18:02|2017-12-31 19:24:15|           373.0|                4|\n",
      "+-------------------+-------------------+----------------+-----------------+\n",
      "only showing top 5 rows\n",
      "\n"
     ]
    }
   ],
   "source": [
    "duration.show(5)"
   ]
  },
  {
   "cell_type": "code",
   "execution_count": 15,
   "metadata": {},
   "outputs": [],
   "source": [
    "duration = duration.withColumn(\"trip_date\", (duration['trip_start'].cast(\"date\")))"
   ]
  },
  {
   "cell_type": "code",
   "execution_count": 16,
   "metadata": {
    "scrolled": true
   },
   "outputs": [
    {
     "name": "stdout",
     "output_type": "stream",
     "text": [
      "+-------------------+-------------------+----------------+-----------------+----------+\n",
      "|         trip_start|           trip_end|duration_seconds|__index_level_0__| trip_date|\n",
      "+-------------------+-------------------+----------------+-----------------+----------+\n",
      "|2017-12-31 19:05:06|2017-12-31 19:14:18|           552.0|                0|2017-12-31|\n",
      "|2017-12-31 19:14:30|2017-12-31 19:35:53|          1283.0|                1|2017-12-31|\n",
      "|2017-12-31 19:14:53|2017-12-31 19:35:58|          1265.0|                2|2017-12-31|\n",
      "|2017-12-31 19:15:31|2017-12-31 19:25:09|           578.0|                3|2017-12-31|\n",
      "|2017-12-31 19:18:02|2017-12-31 19:24:15|           373.0|                4|2017-12-31|\n",
      "+-------------------+-------------------+----------------+-----------------+----------+\n",
      "only showing top 5 rows\n",
      "\n"
     ]
    }
   ],
   "source": [
    "duration.show(5)"
   ]
  },
  {
   "cell_type": "code",
   "execution_count": 17,
   "metadata": {},
   "outputs": [
    {
     "name": "stdout",
     "output_type": "stream",
     "text": [
      "+----------+----------+-------------+\n",
      "| trip_date|trip_count|total_seconds|\n",
      "+----------+----------+-------------+\n",
      "|2017-12-31|       141|     146743.0|\n",
      "|2018-01-01|      1099|    1057878.0|\n",
      "|2018-01-02|      3796|    2840648.0|\n",
      "|2018-01-03|      4742|    3342920.0|\n",
      "|2018-01-04|      2359|    1373034.0|\n",
      "|2018-01-05|      2735|    1643926.0|\n",
      "|2018-01-06|      1510|     965617.0|\n",
      "|2018-01-07|      1719|    1153907.0|\n",
      "|2018-01-08|      4099|    2725381.0|\n",
      "|2018-01-09|      6119|    4649579.0|\n",
      "+----------+----------+-------------+\n",
      "only showing top 10 rows\n",
      "\n"
     ]
    }
   ],
   "source": [
    "duration.createOrReplaceTempView('dv')\n",
    "trips = spark.sql(\"\"\"\n",
    "                  SELECT trip_date, count(*) as trip_count, sum(duration_seconds) as total_seconds\n",
    "                  FROM dv\n",
    "                  GROUP BY trip_date\n",
    "                  ORDER BY trip_date\n",
    "                  \"\"\")\n",
    "trips.show(10)"
   ]
  },
  {
   "cell_type": "code",
   "execution_count": 22,
   "metadata": {
    "scrolled": false
   },
   "outputs": [
    {
     "name": "stdout",
     "output_type": "stream",
     "text": [
      "+----------+----------+-------------+-----+----+----+----+----+----+----+\n",
      "| trip_date|trip_count|total_seconds| AWND|PRCP|SNOW|SNWD|TAVG|TMAX|TMIN|\n",
      "+----------+----------+-------------+-----+----+----+----+----+----+----+\n",
      "|2018-01-01|      1099|    1057878.0|11.63| 0.0| 0.0| 0.0|19.0|  26|  13|\n",
      "|2018-01-02|      3796|    2840648.0| 7.83| 0.0| 0.0| 0.0|18.0|  26|  13|\n",
      "|2018-01-03|      4742|    3342920.0|  3.8| 0.0| 0.0| 0.0|23.0|  35|  13|\n",
      "|2018-01-04|      2359|    1373034.0|19.91| 0.1| 0.8| 1.2|26.0|  27|  16|\n",
      "|2018-01-05|      2735|    1643926.0|15.66| 0.0| 0.0| 1.2|17.0|  21|  13|\n",
      "|2018-01-06|      1510|     965617.0|13.42| 0.0| 0.0| 0.0|15.0|  21|  11|\n",
      "|2018-01-07|      1719|    1153907.0| 8.95| 0.0| 0.0| 0.0|15.0|  23|   8|\n",
      "|2018-01-08|      4099|    2725381.0|  8.5|0.06| 0.0| 0.0|25.0|  39|  19|\n",
      "|2018-01-09|      6119|    4649579.0| 5.37| 0.0| 0.0| 0.0|38.0|  51|  30|\n",
      "|2018-01-10|      7109|    5293373.0| 3.36| 0.0| 0.0| 0.0|36.0|  43|  27|\n",
      "+----------+----------+-------------+-----+----+----+----+----+----+----+\n",
      "only showing top 10 rows\n",
      "\n"
     ]
    }
   ],
   "source": [
    "dat = trips.join(weather, on = ['trip_date'], how = 'inner').orderBy(col('trip_date'))\n",
    "dat.show(10)"
   ]
  },
  {
   "cell_type": "code",
   "execution_count": 30,
   "metadata": {},
   "outputs": [],
   "source": [
    "result_dat = dat.select('*').toPandas()\n",
    "result_table = pa.Table.from_pandas(result_dat, preserve_index=False)\n",
    "pq.write_table(result_table, '../data/bikeshare-data.parquet')"
   ]
  }
 ],
 "metadata": {
  "kernelspec": {
   "display_name": "Python 3",
   "language": "python",
   "name": "python3"
  },
  "language_info": {
   "codemirror_mode": {
    "name": "ipython",
    "version": 3
   },
   "file_extension": ".py",
   "mimetype": "text/x-python",
   "name": "python",
   "nbconvert_exporter": "python",
   "pygments_lexer": "ipython3",
   "version": "3.7.6"
  }
 },
 "nbformat": 4,
 "nbformat_minor": 1
}
